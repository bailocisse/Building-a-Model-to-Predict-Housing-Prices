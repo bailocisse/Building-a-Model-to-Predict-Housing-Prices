{
 "cells": [
  {
   "cell_type": "markdown",
   "metadata": {},
   "source": [
    "# House pricing prediction\n",
    "\n",
    "**Mamadou Baïlo CISSE**"
   ]
  },
  {
   "cell_type": "markdown",
   "metadata": {},
   "source": [
    "# Index\n",
    "\n",
    "- [Abstract](#Abstract)\n",
    "- [1. Introduction](#1.-Introduction)\n",
    "- [2. The Data](#2.-The-Data)\n",
    "    - [2.1 Import the Data](#2.1-Import-the-Data)\n",
    "    - [2.2 Data Exploration](#2.2-Data-Exploration)\n",
    "    - [2.3 Data Preparation](#2.3-Data-Preparation)\n",
    "    - [2.4 Correlation](#2.4-Correlation)\n",
    "- [3. Project Description](#3.-Project-Description)\n",
    "    - [3.1 Linear Regression](#3.1-Linear-Regression)\n",
    "    - [3.2 Analysis](#3.2-Analysis)\n",
    "    - [3.3 Results](#3.3-Results)\n",
    "    - [3.4 Verify Your Model Against Test Data](#3.4-Verify-Your-Model-Against-Test-Data)\n",
    "- [Conclusion](#Conclusion)\n",
    "- [References](#References)"
   ]
  },
  {
   "cell_type": "markdown",
   "metadata": {},
   "source": [
    "[Back to top](#Index)\n",
    "\n",
    "\n",
    "##  Abstract\n",
    "\n",
    "In this project, we built some machine learning models to predict house prices.\n",
    "After analyzing the dataset using data description file along with some exploration steps, we selected three sets of features based on their correlation with the SalePrice (dependent variable). We then built three models (model10, model15, model20) against those three sets of features (**10, 15, 20 most correlated features**) and demonstrated that the model model20 was the one that performed the best on the training data regarding **the three metrics $R^2$ (0.88), MAE - Mean Absolute Error - (18 356.27) ,and MSE - Mean Square Error (600 490 969.09)**. \n",
    "\n",
    "However, we were not performing well on the test dataset. We then decided to perform **further transformations** by including categorical (ordinal and nominal) variables to build a new model \"NewModel\". We selected the best correlated categorical features by using **most-frequent imputation** (to deal with null values) and **ANOVA** (ANalysis Of VAriance) technique.\n",
    "\n",
    "By doing so, we improved :\n",
    "+ $R^2$ metric from **0.88** (model20) to **0.95** (NewModel) on the train dataset.\n",
    "+ $R^2$ metric from **0.74** to **0.78** on the test dataset.\n"
   ]
  },
  {
   "cell_type": "markdown",
   "metadata": {},
   "source": [
    "[Back to top](#Index)\n",
    "\n",
    "\n",
    "## 1. Introduction\n",
    "\n",
    "The goal of this data science project is to build an efficient **machine learning model** to predict house prices. To achieve this, our supervised model (the price is the label) will learn from a training data set in which we'll select the most relevant features that best explain the house prices.\n",
    "\n",
    "This notebook shows the different steps and code to achieve our goal.\n",
    "\n",
    "+ In the first part of the notebook :\n",
    "    - We will make some **data explorations** along with **data cleaning** by dealing with duplicate values (if there are any), null values... \n",
    "    - Then we will use the **correlation technique** (Pearson correlation matrix) to select the features that are best correlated with the dependant variable (house price)\n",
    "    - Then we will **build our model** and make some accuracy analysis on three different set of variables.\n",
    "    - Finally, we are going to verify our model against the **test data**.\n",
    "+ In the second part of the notebook, we will make further transformations to try perform better on the test dataset :\n",
    "    - First, we will apply the same transformations as in the first part of the notebook\n",
    "    - Then, we are going to treat categorical columns with some imputation and the use of ANOVA technique.\n",
    "    - Finally, we will compare the performance of this new model to the model built in the first part of the notebook on the test data\n",
    "\n",
    "In a general context, one can use this kind of model in real world to estimate a house price. It can even be useful for real estate agencies. \n",
    "\n",
    "As I mentioned above, the goal is to build an efficient machine learning linear model to predict house prices. In the dataset, we have 82 variables (including Unnamed: 0 and Id columns) that describe different aspects of a hundred houses including their prices. \n",
    "We're going to operate on this data using python data analytics and data science librairies.\n"
   ]
  },
  {
   "cell_type": "markdown",
   "metadata": {},
   "source": [
    "[Back to top](#Index)\n",
    "\n",
    "## 2. The Data\n",
    "\n",
    "We have been provided two datasets:\n",
    "+ A training dataset 'houseSmallData.csv' that will help us train the model\n",
    "+ A testing dataset 'jtest.csv' that is intended to test our model\n",
    "\n",
    "Each dataset has 100 records.\n",
    "\n",
    "In the data, we have 40 numeric columns, including Unnamed: 0 and Id columns  (continuous and discrete) and 42 categorical columns (nominal and ordinal).\n",
    "\n",
    "+ Continuous variables generally qualify areas (lot area, living area, etc.). The discrete variables indicate the number of occurrences of standard rooms in the dwelling (number of bedrooms, bathrooms). Among other things, we find the years of construction and renovation of the house and the garage.\n",
    "\n",
    "+ Nominal variables identify housing types, materials, garages, environmental conditions while ordinal variables evaluate the different elements of the property.\n",
    "\n",
    "A description of the data is provided in data_description.txt file."
   ]
  },
  {
   "cell_type": "markdown",
   "metadata": {},
   "source": [
    "[Back to top](#Index)\n",
    "\n",
    "### 2.1 Import the Data\n",
    "\n",
    "In this section, we import the python libraries that are needed for the project.\n",
    "\n",
    "Then, we take a quick look at the data. We see that we have a hundred records with 82 variables.\n",
    "\n",
    "We also look at some information about those variables (names and types) and the memory usage of the data.\n",
    "\n",
    "We finally take a look at the head of the data to make sure it looks as expected.\n"
   ]
  },
  {
   "cell_type": "code",
   "execution_count": 355,
   "metadata": {},
   "outputs": [
    {
     "name": "stdout",
     "output_type": "stream",
     "text": [
      "Shape of the dataset : (100, 82)\n",
      "<class 'pandas.core.frame.DataFrame'>\n",
      "RangeIndex: 100 entries, 0 to 99\n",
      "Data columns (total 82 columns):\n",
      " #   Column         Non-Null Count  Dtype  \n",
      "---  ------         --------------  -----  \n",
      " 0   Unnamed: 0     100 non-null    int64  \n",
      " 1   Id             100 non-null    int64  \n",
      " 2   MSSubClass     100 non-null    int64  \n",
      " 3   MSZoning       100 non-null    object \n",
      " 4   LotFrontage    86 non-null     float64\n",
      " 5   LotArea        100 non-null    int64  \n",
      " 6   Street         100 non-null    object \n",
      " 7   Alley          6 non-null      object \n",
      " 8   LotShape       100 non-null    object \n",
      " 9   LandContour    100 non-null    object \n",
      " 10  Utilities      100 non-null    object \n",
      " 11  LotConfig      100 non-null    object \n",
      " 12  LandSlope      100 non-null    object \n",
      " 13  Neighborhood   100 non-null    object \n",
      " 14  Condition1     100 non-null    object \n",
      " 15  Condition2     100 non-null    object \n",
      " 16  BldgType       100 non-null    object \n",
      " 17  HouseStyle     100 non-null    object \n",
      " 18  OverallQual    100 non-null    int64  \n",
      " 19  OverallCond    100 non-null    int64  \n",
      " 20  YearBuilt      100 non-null    int64  \n",
      " 21  YearRemodAdd   100 non-null    int64  \n",
      " 22  RoofStyle      100 non-null    object \n",
      " 23  RoofMatl       100 non-null    object \n",
      " 24  Exterior1st    100 non-null    object \n",
      " 25  Exterior2nd    100 non-null    object \n",
      " 26  MasVnrType     100 non-null    object \n",
      " 27  MasVnrArea     100 non-null    float64\n",
      " 28  ExterQual      100 non-null    object \n",
      " 29  ExterCond      100 non-null    object \n",
      " 30  Foundation     100 non-null    object \n",
      " 31  BsmtQual       97 non-null     object \n",
      " 32  BsmtCond       97 non-null     object \n",
      " 33  BsmtExposure   97 non-null     object \n",
      " 34  BsmtFinType1   97 non-null     object \n",
      " 35  BsmtFinSF1     100 non-null    int64  \n",
      " 36  BsmtFinType2   97 non-null     object \n",
      " 37  BsmtFinSF2     100 non-null    int64  \n",
      " 38  BsmtUnfSF      100 non-null    int64  \n",
      " 39  TotalBsmtSF    100 non-null    int64  \n",
      " 40  Heating        100 non-null    object \n",
      " 41  HeatingQC      100 non-null    object \n",
      " 42  CentralAir     100 non-null    object \n",
      " 43  Electrical     100 non-null    object \n",
      " 44  1stFlrSF       100 non-null    int64  \n",
      " 45  2ndFlrSF       100 non-null    int64  \n",
      " 46  LowQualFinSF   100 non-null    int64  \n",
      " 47  GrLivArea      100 non-null    int64  \n",
      " 48  BsmtFullBath   100 non-null    int64  \n",
      " 49  BsmtHalfBath   100 non-null    int64  \n",
      " 50  FullBath       100 non-null    int64  \n",
      " 51  HalfBath       100 non-null    int64  \n",
      " 52  BedroomAbvGr   100 non-null    int64  \n",
      " 53  KitchenAbvGr   100 non-null    int64  \n",
      " 54  KitchenQual    100 non-null    object \n",
      " 55  TotRmsAbvGrd   100 non-null    int64  \n",
      " 56  Functional     100 non-null    object \n",
      " 57  Fireplaces     100 non-null    int64  \n",
      " 58  FireplaceQu    46 non-null     object \n",
      " 59  GarageType     94 non-null     object \n",
      " 60  GarageYrBlt    94 non-null     float64\n",
      " 61  GarageFinish   94 non-null     object \n",
      " 62  GarageCars     100 non-null    int64  \n",
      " 63  GarageArea     100 non-null    int64  \n",
      " 64  GarageQual     94 non-null     object \n",
      " 65  GarageCond     94 non-null     object \n",
      " 66  PavedDrive     100 non-null    object \n",
      " 67  WoodDeckSF     100 non-null    int64  \n",
      " 68  OpenPorchSF    100 non-null    int64  \n",
      " 69  EnclosedPorch  100 non-null    int64  \n",
      " 70  3SsnPorch      100 non-null    int64  \n",
      " 71  ScreenPorch    100 non-null    int64  \n",
      " 72  PoolArea       100 non-null    int64  \n",
      " 73  PoolQC         0 non-null      float64\n",
      " 74  Fence          23 non-null     object \n",
      " 75  MiscFeature    9 non-null      object \n",
      " 76  MiscVal        100 non-null    int64  \n",
      " 77  MoSold         100 non-null    int64  \n",
      " 78  YrSold         100 non-null    int64  \n",
      " 79  SaleType       100 non-null    object \n",
      " 80  SaleCondition  100 non-null    object \n",
      " 81  SalePrice      100 non-null    int64  \n",
      "dtypes: float64(4), int64(36), object(42)\n",
      "memory usage: 64.2+ KB\n",
      "None\n"
     ]
    },
    {
     "data": {
      "text/html": [
       "<div>\n",
       "<style scoped>\n",
       "    .dataframe tbody tr th:only-of-type {\n",
       "        vertical-align: middle;\n",
       "    }\n",
       "\n",
       "    .dataframe tbody tr th {\n",
       "        vertical-align: top;\n",
       "    }\n",
       "\n",
       "    .dataframe thead th {\n",
       "        text-align: right;\n",
       "    }\n",
       "</style>\n",
       "<table border=\"1\" class=\"dataframe\">\n",
       "  <thead>\n",
       "    <tr style=\"text-align: right;\">\n",
       "      <th></th>\n",
       "      <th>Unnamed: 0</th>\n",
       "      <th>Id</th>\n",
       "      <th>MSSubClass</th>\n",
       "      <th>MSZoning</th>\n",
       "      <th>LotFrontage</th>\n",
       "      <th>LotArea</th>\n",
       "      <th>Street</th>\n",
       "      <th>Alley</th>\n",
       "      <th>LotShape</th>\n",
       "      <th>LandContour</th>\n",
       "      <th>...</th>\n",
       "      <th>PoolArea</th>\n",
       "      <th>PoolQC</th>\n",
       "      <th>Fence</th>\n",
       "      <th>MiscFeature</th>\n",
       "      <th>MiscVal</th>\n",
       "      <th>MoSold</th>\n",
       "      <th>YrSold</th>\n",
       "      <th>SaleType</th>\n",
       "      <th>SaleCondition</th>\n",
       "      <th>SalePrice</th>\n",
       "    </tr>\n",
       "  </thead>\n",
       "  <tbody>\n",
       "    <tr>\n",
       "      <th>0</th>\n",
       "      <td>0</td>\n",
       "      <td>1</td>\n",
       "      <td>60</td>\n",
       "      <td>RL</td>\n",
       "      <td>65.0</td>\n",
       "      <td>8450</td>\n",
       "      <td>Pave</td>\n",
       "      <td>NaN</td>\n",
       "      <td>Reg</td>\n",
       "      <td>Lvl</td>\n",
       "      <td>...</td>\n",
       "      <td>0</td>\n",
       "      <td>NaN</td>\n",
       "      <td>NaN</td>\n",
       "      <td>NaN</td>\n",
       "      <td>0</td>\n",
       "      <td>2</td>\n",
       "      <td>2008</td>\n",
       "      <td>WD</td>\n",
       "      <td>Normal</td>\n",
       "      <td>208500</td>\n",
       "    </tr>\n",
       "    <tr>\n",
       "      <th>1</th>\n",
       "      <td>1</td>\n",
       "      <td>2</td>\n",
       "      <td>20</td>\n",
       "      <td>RL</td>\n",
       "      <td>80.0</td>\n",
       "      <td>9600</td>\n",
       "      <td>Pave</td>\n",
       "      <td>NaN</td>\n",
       "      <td>Reg</td>\n",
       "      <td>Lvl</td>\n",
       "      <td>...</td>\n",
       "      <td>0</td>\n",
       "      <td>NaN</td>\n",
       "      <td>NaN</td>\n",
       "      <td>NaN</td>\n",
       "      <td>0</td>\n",
       "      <td>5</td>\n",
       "      <td>2007</td>\n",
       "      <td>WD</td>\n",
       "      <td>Normal</td>\n",
       "      <td>181500</td>\n",
       "    </tr>\n",
       "    <tr>\n",
       "      <th>2</th>\n",
       "      <td>2</td>\n",
       "      <td>3</td>\n",
       "      <td>60</td>\n",
       "      <td>RL</td>\n",
       "      <td>68.0</td>\n",
       "      <td>11250</td>\n",
       "      <td>Pave</td>\n",
       "      <td>NaN</td>\n",
       "      <td>IR1</td>\n",
       "      <td>Lvl</td>\n",
       "      <td>...</td>\n",
       "      <td>0</td>\n",
       "      <td>NaN</td>\n",
       "      <td>NaN</td>\n",
       "      <td>NaN</td>\n",
       "      <td>0</td>\n",
       "      <td>9</td>\n",
       "      <td>2008</td>\n",
       "      <td>WD</td>\n",
       "      <td>Normal</td>\n",
       "      <td>223500</td>\n",
       "    </tr>\n",
       "    <tr>\n",
       "      <th>3</th>\n",
       "      <td>3</td>\n",
       "      <td>4</td>\n",
       "      <td>70</td>\n",
       "      <td>RL</td>\n",
       "      <td>60.0</td>\n",
       "      <td>9550</td>\n",
       "      <td>Pave</td>\n",
       "      <td>NaN</td>\n",
       "      <td>IR1</td>\n",
       "      <td>Lvl</td>\n",
       "      <td>...</td>\n",
       "      <td>0</td>\n",
       "      <td>NaN</td>\n",
       "      <td>NaN</td>\n",
       "      <td>NaN</td>\n",
       "      <td>0</td>\n",
       "      <td>2</td>\n",
       "      <td>2006</td>\n",
       "      <td>WD</td>\n",
       "      <td>Abnorml</td>\n",
       "      <td>140000</td>\n",
       "    </tr>\n",
       "    <tr>\n",
       "      <th>4</th>\n",
       "      <td>4</td>\n",
       "      <td>5</td>\n",
       "      <td>60</td>\n",
       "      <td>RL</td>\n",
       "      <td>84.0</td>\n",
       "      <td>14260</td>\n",
       "      <td>Pave</td>\n",
       "      <td>NaN</td>\n",
       "      <td>IR1</td>\n",
       "      <td>Lvl</td>\n",
       "      <td>...</td>\n",
       "      <td>0</td>\n",
       "      <td>NaN</td>\n",
       "      <td>NaN</td>\n",
       "      <td>NaN</td>\n",
       "      <td>0</td>\n",
       "      <td>12</td>\n",
       "      <td>2008</td>\n",
       "      <td>WD</td>\n",
       "      <td>Normal</td>\n",
       "      <td>250000</td>\n",
       "    </tr>\n",
       "  </tbody>\n",
       "</table>\n",
       "<p>5 rows × 82 columns</p>\n",
       "</div>"
      ],
      "text/plain": [
       "   Unnamed: 0  Id  MSSubClass MSZoning  LotFrontage  LotArea Street Alley  \\\n",
       "0           0   1          60       RL         65.0     8450   Pave   NaN   \n",
       "1           1   2          20       RL         80.0     9600   Pave   NaN   \n",
       "2           2   3          60       RL         68.0    11250   Pave   NaN   \n",
       "3           3   4          70       RL         60.0     9550   Pave   NaN   \n",
       "4           4   5          60       RL         84.0    14260   Pave   NaN   \n",
       "\n",
       "  LotShape LandContour  ... PoolArea PoolQC Fence MiscFeature MiscVal MoSold  \\\n",
       "0      Reg         Lvl  ...        0    NaN   NaN         NaN       0      2   \n",
       "1      Reg         Lvl  ...        0    NaN   NaN         NaN       0      5   \n",
       "2      IR1         Lvl  ...        0    NaN   NaN         NaN       0      9   \n",
       "3      IR1         Lvl  ...        0    NaN   NaN         NaN       0      2   \n",
       "4      IR1         Lvl  ...        0    NaN   NaN         NaN       0     12   \n",
       "\n",
       "  YrSold SaleType  SaleCondition  SalePrice  \n",
       "0   2008       WD         Normal     208500  \n",
       "1   2007       WD         Normal     181500  \n",
       "2   2008       WD         Normal     223500  \n",
       "3   2006       WD        Abnorml     140000  \n",
       "4   2008       WD         Normal     250000  \n",
       "\n",
       "[5 rows x 82 columns]"
      ]
     },
     "execution_count": 355,
     "metadata": {},
     "output_type": "execute_result"
    }
   ],
   "source": [
    "#import libraries\n",
    "import numpy as np\n",
    "import pandas as pd\n",
    "import matplotlib.pyplot as plt\n",
    "import seaborn as sns\n",
    "from sklearn import linear_model\n",
    "from sklearn.metrics import r2_score\n",
    "from sklearn.metrics import mean_absolute_error\n",
    "from sklearn.metrics import mean_squared_error\n",
    "from sklearn.impute import SimpleImputer\n",
    "from scipy.stats import f_oneway\n",
    "\n",
    "#collect the data set\n",
    "train = pd.read_csv('houseSmallData.csv')\n",
    "\n",
    "#check the shape\n",
    "print(f\"Shape of the dataset : {train.shape}\")\n",
    "\n",
    "#Check info\n",
    "print(train.info())\n",
    "\n",
    "#Overview of the data\n",
    "train.head()\n"
   ]
  },
  {
   "cell_type": "markdown",
   "metadata": {},
   "source": [
    "[Back to top](#Index)\n",
    "\n",
    "### 2.2 Data Exploration\n",
    "\n",
    "As SalePrice represents our dependent variable, let's first take a look at descriptive statistics and a histogram about that data.\n",
    "\n",
    "We see that the minimum price is greater than 0 and we don't have any specific outlier. \n",
    "We also see the histogram deviates from the normal distribution with a positive skewness"
   ]
  },
  {
   "cell_type": "code",
   "execution_count": 356,
   "metadata": {
    "scrolled": true
   },
   "outputs": [
    {
     "name": "stdout",
     "output_type": "stream",
     "text": [
      "count       100.000000\n",
      "mean     173820.660000\n",
      "std       72236.552886\n",
      "min       40000.000000\n",
      "25%      129362.500000\n",
      "50%      153750.000000\n",
      "75%      207750.000000\n",
      "max      438780.000000\n",
      "Name: SalePrice, dtype: float64\n",
      "Skewness : 1.1783462304851948\n"
     ]
    },
    {
     "data": {
      "image/png": "[encoded data removed]",
      "text/plain": [
       "<Figure size 432x288 with 1 Axes>"
      ]
     },
     "metadata": {
      "needs_background": "light"
     },
     "output_type": "display_data"
    }
   ],
   "source": [
    "SalePrice = train['SalePrice']\n",
    "print(SalePrice.describe())\n",
    "plt.hist(SalePrice, color = 'g')\n",
    "print(f\"Skewness : {SalePrice.skew()}\")"
   ]
  },
  {
   "cell_type": "markdown",
   "metadata": {},
   "source": [
    "The histogram looks like a log normal distribution so we may want to scale it.\n",
    "Let's look at the log of the sale price so that errors in predicting expensive houses and cheap houses will affect the result equally"
   ]
  },
  {
   "cell_type": "code",
   "execution_count": 357,
   "metadata": {
    "scrolled": true
   },
   "outputs": [
    {
     "name": "stdout",
     "output_type": "stream",
     "text": [
      "Skewness of the log of the sale price: -0.09632240207755555\n"
     ]
    },
    {
     "data": {
      "text/plain": [
       "(array([ 1.,  0.,  3.,  7., 21., 26., 18., 13.,  9.,  2.]),\n",
       " array([10.59663473, 10.8361466 , 11.07565847, 11.31517034, 11.55468221,\n",
       "        11.79419408, 12.03370595, 12.27321782, 12.51272969, 12.75224156,\n",
       "        12.99175343]),\n",
       " <BarContainer object of 10 artists>)"
      ]
     },
     "execution_count": 357,
     "metadata": {},
     "output_type": "execute_result"
    },
    {
     "data": {
      "image/png": "[encoded data removed]",
      "text/plain": [
       "<Figure size 432x288 with 1 Axes>"
      ]
     },
     "metadata": {
      "needs_background": "light"
     },
     "output_type": "display_data"
    }
   ],
   "source": [
    "#set the target variable\n",
    "target =  np.log(SalePrice)\n",
    "print(f\"Skewness of the log of the sale price: {target.skew()}\")\n",
    "plt.hist(target, color = 'g')"
   ]
  },
  {
   "cell_type": "markdown",
   "metadata": {},
   "source": [
    "The plot looks a little bit more normally distributed.\n",
    "We can also see the skew is quite significant.\n",
    "When we look at the skew of the log, we see that it is reduced from over 1 to about -0.1"
   ]
  },
  {
   "cell_type": "markdown",
   "metadata": {},
   "source": [
    "Based on our knowledge of the field, we assume that people may strongly consider the following data when buying a house or predicting a house price. \n",
    "So we're going to focus on those data in our data exploration :\n",
    "+ OverallQual \n",
    "+ MasVnrArea\n",
    "+ GrLivArea\n",
    "+ GarageArea\n"
   ]
  },
  {
   "cell_type": "code",
   "execution_count": 358,
   "metadata": {},
   "outputs": [
    {
     "name": "stdout",
     "output_type": "stream",
     "text": [
      "[[1.         0.84335956]\n",
      " [0.84335956 1.        ]]\n"
     ]
    },
    {
     "data": {
      "text/plain": [
       "<AxesSubplot:xlabel='OverallQual', ylabel='SalePrice'>"
      ]
     },
     "execution_count": 358,
     "metadata": {},
     "output_type": "execute_result"
    },
    {
     "data": {
      "image/png": "[encoded data removed]",
      "text/plain": [
       "<Figure size 432x288 with 1 Axes>"
      ]
     },
     "metadata": {
      "needs_background": "light"
     },
     "output_type": "display_data"
    }
   ],
   "source": [
    "#Correlation matrix between OverallQual and target\n",
    "print(np.corrcoef(train['OverallQual'], y=target))\n",
    "\n",
    "#Relationship between OverallQual and target\n",
    "sns.boxplot(x = 'OverallQual', y = target, data = train)"
   ]
  },
  {
   "cell_type": "markdown",
   "metadata": {},
   "source": [
    "We can see that OverallQual is correlated to the target with a pearson correlation of 0.84.\n",
    "\n",
    "Here we use box plot as OverallQual is a categorical feature and we see that SalePrice increases when OverallQual increases."
   ]
  },
  {
   "cell_type": "code",
   "execution_count": 359,
   "metadata": {},
   "outputs": [
    {
     "name": "stdout",
     "output_type": "stream",
     "text": [
      "[[1.         0.53288067]\n",
      " [0.53288067 1.        ]]\n"
     ]
    },
    {
     "data": {
      "text/plain": [
       "<matplotlib.collections.PathCollection at 0x2c5d2a23dc0>"
      ]
     },
     "execution_count": 359,
     "metadata": {},
     "output_type": "execute_result"
    },
    {
     "data": {
      "image/png": "[encoded data removed]",
      "text/plain": [
       "<Figure size 432x288 with 1 Axes>"
      ]
     },
     "metadata": {
      "needs_background": "light"
     },
     "output_type": "display_data"
    }
   ],
   "source": [
    "#Correlation matrix between MasVnrArea and target\n",
    "print(np.corrcoef(train['MasVnrArea'], y=target))\n",
    "\n",
    "#Relationship between MasVnrArea and target\n",
    "plt.scatter(train['MasVnrArea'], y=target)"
   ]
  },
  {
   "cell_type": "markdown",
   "metadata": {},
   "source": [
    "We can see a positive correlation between MasVnrArea and SalePrice but it is not a strong correlation."
   ]
  },
  {
   "cell_type": "code",
   "execution_count": 360,
   "metadata": {
    "scrolled": true
   },
   "outputs": [
    {
     "name": "stdout",
     "output_type": "stream",
     "text": [
      "[[1.         0.70001939]\n",
      " [0.70001939 1.        ]]\n"
     ]
    },
    {
     "data": {
      "text/plain": [
       "<matplotlib.collections.PathCollection at 0x2c5d3d01d60>"
      ]
     },
     "execution_count": 360,
     "metadata": {},
     "output_type": "execute_result"
    },
    {
     "data": {
      "image/png": "[encoded data removed]",
      "text/plain": [
       "<Figure size 432x288 with 1 Axes>"
      ]
     },
     "metadata": {
      "needs_background": "light"
     },
     "output_type": "display_data"
    }
   ],
   "source": [
    "#Correlation matrix between GrLivArea and target\n",
    "print(np.corrcoef(train['GrLivArea'], y=target))\n",
    "\n",
    "#Relationship between GrLivArea and target\n",
    "plt.scatter(train['GrLivArea'], y=target)"
   ]
  },
  {
   "cell_type": "markdown",
   "metadata": {},
   "source": [
    "We can see that there is a positive correlation between the GrLivArea and the target."
   ]
  },
  {
   "cell_type": "code",
   "execution_count": 361,
   "metadata": {},
   "outputs": [
    {
     "name": "stdout",
     "output_type": "stream",
     "text": [
      "[[1.         0.68540425]\n",
      " [0.68540425 1.        ]]\n"
     ]
    },
    {
     "data": {
      "text/plain": [
       "<matplotlib.collections.PathCollection at 0x2c5d3d62e50>"
      ]
     },
     "execution_count": 361,
     "metadata": {},
     "output_type": "execute_result"
    },
    {
     "data": {
      "image/png": "[encoded data removed]",
      "text/plain": [
       "<Figure size 432x288 with 1 Axes>"
      ]
     },
     "metadata": {
      "needs_background": "light"
     },
     "output_type": "display_data"
    }
   ],
   "source": [
    "#Correlation matrix between GarageArea and target\n",
    "print(np.corrcoef(train['GarageArea'], y=target))\n",
    "\n",
    "#Relationship between GarageArea and target\n",
    "plt.scatter(train['GarageArea'], y=target)"
   ]
  },
  {
   "cell_type": "markdown",
   "metadata": {},
   "source": [
    "We notice a positive correlation between GarageArea and target. The data points are globally following a line pattern."
   ]
  },
  {
   "cell_type": "markdown",
   "metadata": {},
   "source": [
    "[Back to top](#Index)\n",
    "\n",
    "### 2.3 Data Preparation\n",
    "\n",
    "Before we deal with missing values, let's get rid of \"Unnamed: 0\" column and set \"Id\" column as index.\n",
    "\n",
    "All the process is described below.\n"
   ]
  },
  {
   "cell_type": "code",
   "execution_count": 362,
   "metadata": {
    "scrolled": false
   },
   "outputs": [],
   "source": [
    "train = train.drop(columns = 'Unnamed: 0')"
   ]
  },
  {
   "cell_type": "code",
   "execution_count": 363,
   "metadata": {},
   "outputs": [
    {
     "data": {
      "text/html": [
       "<div>\n",
       "<style scoped>\n",
       "    .dataframe tbody tr th:only-of-type {\n",
       "        vertical-align: middle;\n",
       "    }\n",
       "\n",
       "    .dataframe tbody tr th {\n",
       "        vertical-align: top;\n",
       "    }\n",
       "\n",
       "    .dataframe thead th {\n",
       "        text-align: right;\n",
       "    }\n",
       "</style>\n",
       "<table border=\"1\" class=\"dataframe\">\n",
       "  <thead>\n",
       "    <tr style=\"text-align: right;\">\n",
       "      <th></th>\n",
       "      <th>MSSubClass</th>\n",
       "      <th>MSZoning</th>\n",
       "      <th>LotFrontage</th>\n",
       "      <th>LotArea</th>\n",
       "      <th>Street</th>\n",
       "      <th>Alley</th>\n",
       "      <th>LotShape</th>\n",
       "      <th>LandContour</th>\n",
       "      <th>Utilities</th>\n",
       "      <th>LotConfig</th>\n",
       "      <th>...</th>\n",
       "      <th>PoolArea</th>\n",
       "      <th>PoolQC</th>\n",
       "      <th>Fence</th>\n",
       "      <th>MiscFeature</th>\n",
       "      <th>MiscVal</th>\n",
       "      <th>MoSold</th>\n",
       "      <th>YrSold</th>\n",
       "      <th>SaleType</th>\n",
       "      <th>SaleCondition</th>\n",
       "      <th>SalePrice</th>\n",
       "    </tr>\n",
       "    <tr>\n",
       "      <th>Id</th>\n",
       "      <th></th>\n",
       "      <th></th>\n",
       "      <th></th>\n",
       "      <th></th>\n",
       "      <th></th>\n",
       "      <th></th>\n",
       "      <th></th>\n",
       "      <th></th>\n",
       "      <th></th>\n",
       "      <th></th>\n",
       "      <th></th>\n",
       "      <th></th>\n",
       "      <th></th>\n",
       "      <th></th>\n",
       "      <th></th>\n",
       "      <th></th>\n",
       "      <th></th>\n",
       "      <th></th>\n",
       "      <th></th>\n",
       "      <th></th>\n",
       "      <th></th>\n",
       "    </tr>\n",
       "  </thead>\n",
       "  <tbody>\n",
       "    <tr>\n",
       "      <th>1</th>\n",
       "      <td>60</td>\n",
       "      <td>RL</td>\n",
       "      <td>65.0</td>\n",
       "      <td>8450</td>\n",
       "      <td>Pave</td>\n",
       "      <td>NaN</td>\n",
       "      <td>Reg</td>\n",
       "      <td>Lvl</td>\n",
       "      <td>AllPub</td>\n",
       "      <td>Inside</td>\n",
       "      <td>...</td>\n",
       "      <td>0</td>\n",
       "      <td>NaN</td>\n",
       "      <td>NaN</td>\n",
       "      <td>NaN</td>\n",
       "      <td>0</td>\n",
       "      <td>2</td>\n",
       "      <td>2008</td>\n",
       "      <td>WD</td>\n",
       "      <td>Normal</td>\n",
       "      <td>208500</td>\n",
       "    </tr>\n",
       "    <tr>\n",
       "      <th>2</th>\n",
       "      <td>20</td>\n",
       "      <td>RL</td>\n",
       "      <td>80.0</td>\n",
       "      <td>9600</td>\n",
       "      <td>Pave</td>\n",
       "      <td>NaN</td>\n",
       "      <td>Reg</td>\n",
       "      <td>Lvl</td>\n",
       "      <td>AllPub</td>\n",
       "      <td>FR2</td>\n",
       "      <td>...</td>\n",
       "      <td>0</td>\n",
       "      <td>NaN</td>\n",
       "      <td>NaN</td>\n",
       "      <td>NaN</td>\n",
       "      <td>0</td>\n",
       "      <td>5</td>\n",
       "      <td>2007</td>\n",
       "      <td>WD</td>\n",
       "      <td>Normal</td>\n",
       "      <td>181500</td>\n",
       "    </tr>\n",
       "    <tr>\n",
       "      <th>3</th>\n",
       "      <td>60</td>\n",
       "      <td>RL</td>\n",
       "      <td>68.0</td>\n",
       "      <td>11250</td>\n",
       "      <td>Pave</td>\n",
       "      <td>NaN</td>\n",
       "      <td>IR1</td>\n",
       "      <td>Lvl</td>\n",
       "      <td>AllPub</td>\n",
       "      <td>Inside</td>\n",
       "      <td>...</td>\n",
       "      <td>0</td>\n",
       "      <td>NaN</td>\n",
       "      <td>NaN</td>\n",
       "      <td>NaN</td>\n",
       "      <td>0</td>\n",
       "      <td>9</td>\n",
       "      <td>2008</td>\n",
       "      <td>WD</td>\n",
       "      <td>Normal</td>\n",
       "      <td>223500</td>\n",
       "    </tr>\n",
       "    <tr>\n",
       "      <th>4</th>\n",
       "      <td>70</td>\n",
       "      <td>RL</td>\n",
       "      <td>60.0</td>\n",
       "      <td>9550</td>\n",
       "      <td>Pave</td>\n",
       "      <td>NaN</td>\n",
       "      <td>IR1</td>\n",
       "      <td>Lvl</td>\n",
       "      <td>AllPub</td>\n",
       "      <td>Corner</td>\n",
       "      <td>...</td>\n",
       "      <td>0</td>\n",
       "      <td>NaN</td>\n",
       "      <td>NaN</td>\n",
       "      <td>NaN</td>\n",
       "      <td>0</td>\n",
       "      <td>2</td>\n",
       "      <td>2006</td>\n",
       "      <td>WD</td>\n",
       "      <td>Abnorml</td>\n",
       "      <td>140000</td>\n",
       "    </tr>\n",
       "    <tr>\n",
       "      <th>5</th>\n",
       "      <td>60</td>\n",
       "      <td>RL</td>\n",
       "      <td>84.0</td>\n",
       "      <td>14260</td>\n",
       "      <td>Pave</td>\n",
       "      <td>NaN</td>\n",
       "      <td>IR1</td>\n",
       "      <td>Lvl</td>\n",
       "      <td>AllPub</td>\n",
       "      <td>FR2</td>\n",
       "      <td>...</td>\n",
       "      <td>0</td>\n",
       "      <td>NaN</td>\n",
       "      <td>NaN</td>\n",
       "      <td>NaN</td>\n",
       "      <td>0</td>\n",
       "      <td>12</td>\n",
       "      <td>2008</td>\n",
       "      <td>WD</td>\n",
       "      <td>Normal</td>\n",
       "      <td>250000</td>\n",
       "    </tr>\n",
       "  </tbody>\n",
       "</table>\n",
       "<p>5 rows × 80 columns</p>\n",
       "</div>"
      ],
      "text/plain": [
       "    MSSubClass MSZoning  LotFrontage  LotArea Street Alley LotShape  \\\n",
       "Id                                                                    \n",
       "1           60       RL         65.0     8450   Pave   NaN      Reg   \n",
       "2           20       RL         80.0     9600   Pave   NaN      Reg   \n",
       "3           60       RL         68.0    11250   Pave   NaN      IR1   \n",
       "4           70       RL         60.0     9550   Pave   NaN      IR1   \n",
       "5           60       RL         84.0    14260   Pave   NaN      IR1   \n",
       "\n",
       "   LandContour Utilities LotConfig  ... PoolArea PoolQC Fence MiscFeature  \\\n",
       "Id                                  ...                                     \n",
       "1          Lvl    AllPub    Inside  ...        0    NaN   NaN         NaN   \n",
       "2          Lvl    AllPub       FR2  ...        0    NaN   NaN         NaN   \n",
       "3          Lvl    AllPub    Inside  ...        0    NaN   NaN         NaN   \n",
       "4          Lvl    AllPub    Corner  ...        0    NaN   NaN         NaN   \n",
       "5          Lvl    AllPub       FR2  ...        0    NaN   NaN         NaN   \n",
       "\n",
       "   MiscVal MoSold  YrSold  SaleType  SaleCondition  SalePrice  \n",
       "Id                                                             \n",
       "1        0      2    2008        WD         Normal     208500  \n",
       "2        0      5    2007        WD         Normal     181500  \n",
       "3        0      9    2008        WD         Normal     223500  \n",
       "4        0      2    2006        WD        Abnorml     140000  \n",
       "5        0     12    2008        WD         Normal     250000  \n",
       "\n",
       "[5 rows x 80 columns]"
      ]
     },
     "execution_count": 363,
     "metadata": {},
     "output_type": "execute_result"
    }
   ],
   "source": [
    "train = train.set_index('Id')\n",
    "train.head()"
   ]
  },
  {
   "cell_type": "code",
   "execution_count": 364,
   "metadata": {},
   "outputs": [
    {
     "data": {
      "text/plain": [
       "PoolQC          100\n",
       "Alley            94\n",
       "MiscFeature      91\n",
       "Fence            77\n",
       "FireplaceQu      54\n",
       "LotFrontage      14\n",
       "GarageCond        6\n",
       "GarageType        6\n",
       "GarageYrBlt       6\n",
       "GarageFinish      6\n",
       "GarageQual        6\n",
       "BsmtCond          3\n",
       "BsmtFinType2      3\n",
       "BsmtQual          3\n",
       "BsmtExposure      3\n",
       "BsmtFinType1      3\n",
       "Functional        0\n",
       "MSSubClass        0\n",
       "TotRmsAbvGrd      0\n",
       "Fireplaces        0\n",
       "dtype: int64"
      ]
     },
     "execution_count": 364,
     "metadata": {},
     "output_type": "execute_result"
    }
   ],
   "source": [
    "nulls = train.isnull().sum().sort_values(ascending=False)[0:20]\n",
    "nulls"
   ]
  },
  {
   "cell_type": "markdown",
   "metadata": {},
   "source": [
    "We see that we have a few nulls. For example, the poolQC has 100. The Alley has 94. Those data shouldn't be analyzed.\n",
    "\n",
    "As we get down, there are some we might going to use. Therefore, we're going to repair them."
   ]
  },
  {
   "cell_type": "code",
   "execution_count": 365,
   "metadata": {},
   "outputs": [
    {
     "name": "stdout",
     "output_type": "stream",
     "text": [
      "0\n",
      "(100, 37)\n"
     ]
    },
    {
     "name": "stderr",
     "output_type": "stream",
     "text": [
      "C:\\Users\\Mamadou Baïlo CISSE\\AppData\\Local\\Temp\\ipykernel_43708\\3257725322.py:1: FutureWarning: Dropping of nuisance columns in DataFrame reductions (with 'numeric_only=None') is deprecated; in a future version this will raise TypeError.  Select only valid columns before calling the reduction.\n",
      "  train = train.select_dtypes(include = [np.number]).fillna(train.mean()).dropna(axis=1)\n"
     ]
    }
   ],
   "source": [
    "train = train.select_dtypes(include = [np.number]).fillna(train.mean()).dropna(axis=1)\n",
    "\n",
    "print(sum(train.isnull().sum() != 0))\n",
    "print(train.shape)"
   ]
  },
  {
   "cell_type": "markdown",
   "metadata": {},
   "source": [
    "**To repair the data, we have** :\n",
    "1. selected the numeric variables\n",
    "2. applied the mean to fill the missing values\n",
    "3. dropped the remaining columns that have not been treated by the mean function (PoolQC)\n",
    "4. Controlled whether there are still missing values by computing the sum of null values\n",
    "\n",
    "**We observe that there are no missing values**"
   ]
  },
  {
   "cell_type": "markdown",
   "metadata": {},
   "source": [
    "[Back to top](#Index)\n",
    "\n",
    "### 2.4 Correlation\n",
    "\n",
    "To study the correlation between the variables, we are going to use the Heatmap chart. This will help us identify the variables that are the most correlated with the SalePrice. So we're going to explore different variables based on these correlations. Below we described how we selected the set of variables."
   ]
  },
  {
   "cell_type": "code",
   "execution_count": 366,
   "metadata": {
    "scrolled": true
   },
   "outputs": [
    {
     "data": {
      "text/plain": [
       "<AxesSubplot:>"
      ]
     },
     "execution_count": 366,
     "metadata": {},
     "output_type": "execute_result"
    },
    {
     "data": {
      "image/png": "[encoded data removed]",
      "text/plain": [
       "<Figure size 1080x864 with 2 Axes>"
      ]
     },
     "metadata": {
      "needs_background": "light"
     },
     "output_type": "display_data"
    }
   ],
   "source": [
    "corrmat = train.corr()\n",
    "f, ax = plt.subplots(figsize=(15, 12))\n",
    "sns.heatmap(corrmat)"
   ]
  },
  {
   "cell_type": "code",
   "execution_count": 367,
   "metadata": {},
   "outputs": [
    {
     "data": {
      "text/plain": [
       "array([0], dtype=int64)"
      ]
     },
     "execution_count": 367,
     "metadata": {},
     "output_type": "execute_result"
    }
   ],
   "source": [
    "train['PoolArea'].unique()"
   ]
  },
  {
   "cell_type": "markdown",
   "metadata": {},
   "source": [
    "The PoolArea **has only zeros**. We can get rid of it."
   ]
  },
  {
   "cell_type": "code",
   "execution_count": 368,
   "metadata": {},
   "outputs": [],
   "source": [
    "train = train.drop(columns = 'PoolArea')"
   ]
  },
  {
   "cell_type": "code",
   "execution_count": 369,
   "metadata": {},
   "outputs": [
    {
     "data": {
      "text/plain": [
       "<AxesSubplot:>"
      ]
     },
     "execution_count": 369,
     "metadata": {},
     "output_type": "execute_result"
    },
    {
     "data": {
      "image/png": "[encoded data removed]",
      "text/plain": [
       "<Figure size 1080x864 with 2 Axes>"
      ]
     },
     "metadata": {
      "needs_background": "light"
     },
     "output_type": "display_data"
    }
   ],
   "source": [
    "corrmat = train.corr()\n",
    "f, ax = plt.subplots(figsize=(15, 12))\n",
    "sns.heatmap(corrmat)"
   ]
  },
  {
   "cell_type": "markdown",
   "metadata": {},
   "source": [
    "So far, we have been exploring data we thought were the most important features **based on our intuition**. Indeed, this is subjective. \n",
    "Now we feel the need to change our approach as engineer and make **a more objective analysis**.\n",
    "That's where the correlation matrix comes in and helps us get a quick overview of our data and also the relationships.\n",
    "\n",
    "After analyzing the correlation matrix, we'll now focus on **more features than we did during the data exploration**.\n",
    "\n",
    "To achieve this, we selected the most correlated features with the SalePrice.\n",
    "Below we selected the 10, 15 and 20 most correlated values with the SalePrice."
   ]
  },
  {
   "cell_type": "code",
   "execution_count": 370,
   "metadata": {},
   "outputs": [
    {
     "name": "stdout",
     "output_type": "stream",
     "text": [
      "{11: Index(['SalePrice', 'OverallQual', 'GrLivArea', 'GarageArea', 'GarageCars',\n",
      "       'YearBuilt', 'TotalBsmtSF', 'GarageYrBlt', 'FullBath', 'MasVnrArea',\n",
      "       'TotRmsAbvGrd'],\n",
      "      dtype='object'), 16: Index(['SalePrice', 'OverallQual', 'GrLivArea', 'GarageArea', 'GarageCars',\n",
      "       'YearBuilt', 'TotalBsmtSF', 'GarageYrBlt', 'FullBath', 'MasVnrArea',\n",
      "       'TotRmsAbvGrd', '1stFlrSF', 'YearRemodAdd', 'LotArea', 'Fireplaces',\n",
      "       'WoodDeckSF'],\n",
      "      dtype='object'), 21: Index(['SalePrice', 'OverallQual', 'GrLivArea', 'GarageArea', 'GarageCars',\n",
      "       'YearBuilt', 'TotalBsmtSF', 'GarageYrBlt', 'FullBath', 'MasVnrArea',\n",
      "       'TotRmsAbvGrd', '1stFlrSF', 'YearRemodAdd', 'LotArea', 'Fireplaces',\n",
      "       'WoodDeckSF', '2ndFlrSF', 'BsmtUnfSF', 'HalfBath', 'OpenPorchSF',\n",
      "       'LotFrontage'],\n",
      "      dtype='object')}\n"
     ]
    },
    {
     "data": {
      "text/plain": [
       "SalePrice       1.000000\n",
       "OverallQual     0.855061\n",
       "GrLivArea       0.735129\n",
       "GarageArea      0.688249\n",
       "GarageCars      0.663441\n",
       "YearBuilt       0.658636\n",
       "TotalBsmtSF     0.616297\n",
       "GarageYrBlt     0.587388\n",
       "FullBath        0.579505\n",
       "MasVnrArea      0.571836\n",
       "TotRmsAbvGrd    0.553603\n",
       "1stFlrSF        0.550912\n",
       "YearRemodAdd    0.548330\n",
       "LotArea         0.497124\n",
       "Fireplaces      0.487907\n",
       "WoodDeckSF      0.451241\n",
       "2ndFlrSF        0.381076\n",
       "BsmtUnfSF       0.327020\n",
       "HalfBath        0.319304\n",
       "OpenPorchSF     0.301960\n",
       "LotFrontage     0.299519\n",
       "Name: SalePrice, dtype: float64"
      ]
     },
     "execution_count": 370,
     "metadata": {},
     "output_type": "execute_result"
    }
   ],
   "source": [
    "numberOfFeatures = (11, 16, 21) # Here we put 11, 16 ,and 21 because SalePrice is included \n",
    "# cols is a dictionary with 3 keys representing the numberOfFeatures \n",
    "# and the values representing the most 'numberOfFeatures' correlated features with the SalePrice\n",
    "cols = {}\n",
    "# Select numeric features from the train data set\n",
    "numeric = train.select_dtypes(include = [np.number])\n",
    "corr = numeric.corr()\n",
    "for value in numberOfFeatures :\n",
    "    cols[value] = corr['SalePrice'].sort_values(ascending = False)[0:value].index\n",
    "print(cols)\n",
    "\n",
    "corr['SalePrice'].sort_values(ascending = False)[0:21]"
   ]
  },
  {
   "cell_type": "markdown",
   "metadata": {},
   "source": [
    "\n",
    "[Back to top](#Index)\n",
    "\n",
    "## 3. Project Description\n",
    "\n",
    "Our analysis improves upon the analysis performed by Dr. Williams as we use more correlated features with the SalePrice. \n",
    "In our analysis, we found linear relationships that makes us comfortable in using linear regression algorithm."
   ]
  },
  {
   "cell_type": "markdown",
   "metadata": {},
   "source": [
    "[Back to top](#Index)\n",
    "\n",
    "### 3.1 Linear Regression\n",
    "\n",
    "**The algorithm we use in this project is the linear regression algorithm.**\n",
    "\n",
    "**What Is Linear Regression?**\n",
    "\n",
    "Linear regression is a machine learning algorithm that is used to predict values within a continuous range (i.e., stocks’ price and height) rather than classifying them into categories (i.e., male or female).\n",
    "\n",
    "The values that you want to predict are the dependent variable(s). The predictions can be made using one or more independent variables.\n",
    "\n",
    "There are two types of linear regression: simple and multiple.\n",
    "\n",
    "**Simple Linear Regression**\n",
    "\n",
    "Simple linear regression is the most basic form of linear regression. Its mathematical formulation is based on the traditional equation of the line:\n",
    "\n",
    " **y = mx + b**,\n",
    "\n",
    "where **x** is the independent variable, **y** is the dependent variable,  is the slope, and  is the intercept with the y-axis. In the context of linear regression, **x** represents the input variable that is used to make the prediction, whereas **y** represents the prediction. Additionally, in the context of machine learning, **m** is the weight and **b** is the bias.\n",
    "\n",
    "One of the most important assumptions of linear regression is that the data has a linear relationship. However, in the real world, data is often not perfectly linear, but rather it will be in the form of a cluster of data points on a scatter plot. The goals of linear regression are to compute the line of best fit that describes the linear properties of the data and to determine how well this line fits the data in the cluster of points.\n",
    "\n",
    "**Multiple Linear Regression**\n",
    "\n",
    "Multiple linear regression can be viewed as a natural extension of simple linear regression. The main difference is that now multiple sets of data are used to make the prediction.\n",
    "\n",
    "Therefore, the equation for multiple linear regression becomes:\n",
    "\n",
    "**y = $m_{1}$$x_{1}$  + $m_{2}$$x_{2}$  + ... + $m_{n}$$x_{n}$+b**,\n",
    "\n",
    "\n",
    "where **$x_{1}$, $x_{2}$, ..., $x_{n}$** represent the data points of all the independent variables used to make the prediction, **$m_{1}$, $m_{2}$, ..., $m_{n}$** are the weights, and b is the bias.\n",
    "\n",
    "**To implement simple and multiple linear regression in Python, we need to :**\n",
    "1. import linear_model from the sklearn module\n",
    "2. instantiate the LinearRegression class\n",
    "3. build our model by using the fit function\n",
    "4. make predictions"
   ]
  },
  {
   "cell_type": "markdown",
   "metadata": {},
   "source": [
    "[Back to top](#Index)\n",
    "\n",
    "### 3.2 Analysis \n",
    "\n",
    "In this part, we build three models (model10, model15 ,and model20) and compute the three metrics R^2, MAE ,and MSE for comparison purpose. "
   ]
  },
  {
   "cell_type": "markdown",
   "metadata": {},
   "source": [
    "#### 3.2.1 Model based on the most 10-correlated features\n",
    "\n",
    "Here we build the model based on the most 10-correlated numerical features and compute the metrics to evaluate the quality of the model."
   ]
  },
  {
   "cell_type": "code",
   "execution_count": 371,
   "metadata": {},
   "outputs": [
    {
     "name": "stdout",
     "output_type": "stream",
     "text": [
      "R^2 is : 0.8515791013699046\n",
      "Mean absolute error is : 20719.306178762563\n",
      "Mean squared error is : 766733216.2005004\n",
      "Weights of the model are : [ 1.87159910e+04  5.14072102e+01  4.29212441e+01 -2.34507662e+03\n",
      "  5.68933408e+02  2.50051289e+01 -5.58688717e+00 -6.83664567e+03\n",
      "  1.03552163e+01 -2.03412902e+03]\n"
     ]
    }
   ],
   "source": [
    "# Set the independent variables\n",
    "X = train[cols[11]]\n",
    "# Set the dependent variable\n",
    "Y = X['SalePrice']\n",
    "# Drop the SalePrice from the independent variables\n",
    "X = X.drop(['SalePrice'], axis = 1)\n",
    "\n",
    "#Build the model\n",
    "lr = linear_model.LinearRegression()\n",
    "model10 = lr.fit(X,Y)\n",
    "# Make the predictions\n",
    "predictions10 = model10.predict(X)\n",
    "\n",
    "# Print the metrics and the model weights\n",
    "print(f\"R^2 is : {r2_score(Y, predictions10)}\")\n",
    "print(f\"Mean absolute error is : {mean_absolute_error(Y, predictions10)}\")\n",
    "print(f\"Mean squared error is : {mean_squared_error(Y, predictions10)}\")\n",
    "print(f\"Weights of the model are : {lr.coef_}\")\n",
    "\n",
    "# Store the metrics in metrics10 for comparison purpose\n",
    "metrics10 = {'R2' : r2_score(Y, predictions10), \n",
    "           'MAE' : mean_absolute_error(Y, predictions10), \n",
    "           'MSE' : mean_squared_error(Y, predictions10)}"
   ]
  },
  {
   "cell_type": "markdown",
   "metadata": {},
   "source": [
    "85% of the prices are explained by the 10 independent variables.\n",
    "We're improving upon the analysis performed by Dr. Williams on R^2 score."
   ]
  },
  {
   "cell_type": "code",
   "execution_count": 372,
   "metadata": {
    "scrolled": true
   },
   "outputs": [
    {
     "data": {
      "text/plain": [
       "(array([ 2.,  4.,  7., 23., 28., 18., 10.,  4.,  2.,  2.]),\n",
       " array([-74655.54361356, -58392.47032677, -42129.39703998, -25866.3237532 ,\n",
       "         -9603.25046641,   6659.82282038,  22922.89610717,  39185.96939396,\n",
       "         55449.04268075,  71712.11596753,  87975.18925432]),\n",
       " <BarContainer object of 10 artists>)"
      ]
     },
     "execution_count": 372,
     "metadata": {},
     "output_type": "execute_result"
    },
    {
     "data": {
      "image/png": "[encoded data removed]",
      "text/plain": [
       "<Figure size 432x288 with 1 Axes>"
      ]
     },
     "metadata": {
      "needs_background": "light"
     },
     "output_type": "display_data"
    }
   ],
   "source": [
    "plt.hist(Y - predictions10)"
   ]
  },
  {
   "cell_type": "markdown",
   "metadata": {},
   "source": [
    "The error Y - predictions should look like a normal distribution. And it is the case."
   ]
  },
  {
   "cell_type": "markdown",
   "metadata": {},
   "source": [
    "#### 3.2.2 Model based on the most 15-correlated features\n",
    "\n",
    "In this section we build the model based on the most 15-correlated numerical features and compute the metrics to evaluate the quality of the model."
   ]
  },
  {
   "cell_type": "code",
   "execution_count": 373,
   "metadata": {},
   "outputs": [
    {
     "name": "stdout",
     "output_type": "stream",
     "text": [
      "R^2 is : 0.8822658267161307\n",
      "Mean absolute error is : 18422.756760801367\n",
      "Mean squared error is : 608207484.0661541\n",
      "Weights of the model are : [ 1.52868908e+04  2.49384316e+01  3.96824760e+01 -5.10551609e+03\n",
      "  4.12205315e+02  1.40355879e+01 -6.55147826e+00  9.28209552e+03\n",
      "  2.35333255e+01 -2.38963560e+02 -5.89143455e-01  3.65927574e+02\n",
      "  2.56601819e+00  7.72196531e+03  3.06083777e+01]\n"
     ]
    }
   ],
   "source": [
    "# Set the independent variables\n",
    "X = train[cols[16]]\n",
    "# Set the dependent variable\n",
    "Y = X['SalePrice']\n",
    "# Drop the SalePrice from the independent variables\n",
    "X = X.drop(['SalePrice'], axis = 1)\n",
    "\n",
    "# Build the model\n",
    "lr = linear_model.LinearRegression()\n",
    "model15 = lr.fit(X,Y)\n",
    "\n",
    "# Make the predictions\n",
    "predictions15 = model15.predict(X)\n",
    "\n",
    "# Print the metrics and the model weights\n",
    "print(f\"R^2 is : {r2_score(Y, predictions15)}\")\n",
    "print(f\"Mean absolute error is : {mean_absolute_error(Y, predictions15)}\")\n",
    "print(f\"Mean squared error is : {mean_squared_error(Y, predictions15)}\")\n",
    "print(f\"Weights of the model are : {lr.coef_}\")\n",
    "\n",
    "# Store the metrics in metrics15 for comparison purpose\n",
    "metrics15 = {'R2' : r2_score(Y, predictions15), \n",
    "           'MAE' : mean_absolute_error(Y, predictions15), \n",
    "           'MSE' : mean_squared_error(Y, predictions15)}"
   ]
  },
  {
   "cell_type": "code",
   "execution_count": 374,
   "metadata": {
    "scrolled": true
   },
   "outputs": [
    {
     "data": {
      "text/plain": [
       "(array([ 1.,  0.,  5., 18., 26., 34.,  6.,  9.,  0.,  1.]),\n",
       " array([-87956.14168593, -70304.99984997, -52653.85801401, -35002.71617805,\n",
       "        -17351.57434209,    299.56749387,  17950.70932983,  35601.85116579,\n",
       "         53252.99300175,  70904.13483771,  88555.27667367]),\n",
       " <BarContainer object of 10 artists>)"
      ]
     },
     "execution_count": 374,
     "metadata": {},
     "output_type": "execute_result"
    },
    {
     "data": {
      "image/png": "[encoded data removed]",
      "text/plain": [
       "<Figure size 432x288 with 1 Axes>"
      ]
     },
     "metadata": {
      "needs_background": "light"
     },
     "output_type": "display_data"
    }
   ],
   "source": [
    "plt.hist(Y - predictions15)"
   ]
  },
  {
   "cell_type": "markdown",
   "metadata": {},
   "source": [
    "Most of the errors Y - predictions should be around 0 and it is the case."
   ]
  },
  {
   "cell_type": "markdown",
   "metadata": {},
   "source": [
    "#### 3.2.3 Model based on the most 20-correlated features\n",
    "\n",
    "Here we build the model based on the most 20-correlated numerical features and compute the metrics to evaluate the quality of the model."
   ]
  },
  {
   "cell_type": "code",
   "execution_count": 375,
   "metadata": {},
   "outputs": [
    {
     "name": "stdout",
     "output_type": "stream",
     "text": [
      "R^2 is : 0.8837595562987813\n",
      "Mean absolute error is : 18356.270799324604\n",
      "Mean squared error is : 600490969.0900935\n",
      "Weights of the model are : [ 1.53682679e+04  2.22747131e+01  4.13005239e+01 -6.44962063e+03\n",
      "  4.51525428e+02  1.21565375e+01  3.30857998e+01  5.75744123e+03\n",
      "  2.25795524e+01 -1.44124198e+03  7.03614971e+00  3.75412975e+02\n",
      "  2.47035518e+00  8.35571764e+03  3.27220133e+01  1.28457503e+01\n",
      "  3.12304465e-01 -7.66785419e+03 -1.95285484e+01  7.67318730e+01]\n"
     ]
    }
   ],
   "source": [
    "# Set the independent variables\n",
    "X = train[cols[21]]\n",
    "# Set the dependent variable\n",
    "Y = X['SalePrice']\n",
    "# Drop the SalePrice from the independent variables\n",
    "X = X.drop(['SalePrice'], axis = 1)\n",
    "\n",
    "#Build the model\n",
    "lr = linear_model.LinearRegression()\n",
    "model20 = lr.fit(X,Y)\n",
    "\n",
    "# Make the predictions\n",
    "predictions20 = model20.predict(X)\n",
    "\n",
    "# Print the metrics and the model weights\n",
    "print(f\"R^2 is : {r2_score(Y, predictions20)}\")\n",
    "print(f\"Mean absolute error is : {mean_absolute_error(Y, predictions20)}\")\n",
    "print(f\"Mean squared error is : {mean_squared_error(Y, predictions20)}\")\n",
    "print(f\"Weights of the model are : {lr.coef_}\")\n",
    "\n",
    "# Store the metrics in metrics20 for comparison purpose\n",
    "metrics20 = {'R2' : r2_score(Y, predictions20), \n",
    "           'MAE' : mean_absolute_error(Y, predictions20), \n",
    "           'MSE' : mean_squared_error(Y, predictions20)}"
   ]
  },
  {
   "cell_type": "code",
   "execution_count": 376,
   "metadata": {},
   "outputs": [
    {
     "data": {
      "text/plain": [
       "(array([ 1.,  0.,  5., 19., 22., 35., 10.,  7.,  0.,  1.]),\n",
       " array([-8.87552339e+04, -7.10208128e+04, -5.32863916e+04, -3.55519704e+04,\n",
       "        -1.78175493e+04, -8.31281268e+01,  1.76512930e+04,  3.53857142e+04,\n",
       "         5.31201354e+04,  7.08545565e+04,  8.85889777e+04]),\n",
       " <BarContainer object of 10 artists>)"
      ]
     },
     "execution_count": 376,
     "metadata": {},
     "output_type": "execute_result"
    },
    {
     "data": {
      "image/png": "[encoded data removed]",
      "text/plain": [
       "<Figure size 432x288 with 1 Axes>"
      ]
     },
     "metadata": {
      "needs_background": "light"
     },
     "output_type": "display_data"
    }
   ],
   "source": [
    "plt.hist(Y - predictions20)"
   ]
  },
  {
   "cell_type": "markdown",
   "metadata": {},
   "source": [
    "Most of the errors Y - predictions should be around 0 and it is the case."
   ]
  },
  {
   "cell_type": "markdown",
   "metadata": {},
   "source": [
    "[Back to top](#Index)\n",
    "\n",
    "### 3.3 Results\n",
    "\n",
    "To evaluate the quality of the three models built based on different features, we use three metrics :\n",
    "\n",
    "+ $R^2$ score, the coefficient of determination\n",
    "\n",
    "The r2_score function computes the coefficient of determination, usually denoted as $R^2$\n",
    "\n",
    "If $\\hat{y}_{i}$ is the predicted value of the i-th sample and ${y}_{i}$ is the corresponding true value for total n-samples, the estimated $R^2$ is defined as:\n",
    "\n",
    "$R^2$(y, $\\hat{y}$) = 1 - $\\frac{\\sum_{i=1}^{n} (y_{i} - \\hat{y}_{i})^2}{\\sum_{i=1}^{n} (y_{i} - \\bar{y})^2}$\n",
    "\n",
    "+ Mean absolute error\n",
    "\n",
    "The mean_absolute_error function computes mean absolute error, a risk metric corresponding to the expected value of the absolute error loss.\n",
    "\n",
    "If $\\hat{y}_{i}$ is the predicted value of the i-th sample, and ${y}_{i}$ is the corresponding true value, then the mean absolute error (MAE) estimated over $n_{samples}-1$ is defined as\n",
    "\n",
    "\n",
    "MAE(y, $\\hat{y}$) = $\\frac{1}{n_{samples}}$ $\\sum_{i=0}^{n_{samples}-1} y_{i} - \\hat{y}_{i}$     \n",
    "\n",
    "+ Mean squared error\n",
    "\n",
    "The mean_squared_error function computes mean square error, a risk metric corresponding to the expected value of the squared (quadratic) error or loss.\n",
    "\n",
    "If $\\hat{y}_{i}$ is the predicted value of the i-th sample, and ${y}_{i}$ is the corresponding true value, then the mean squared error (MSE) estimated over $n_{samples}-1$ is defined as\n",
    "\n",
    "MSE(y, $\\hat{y}$) = $\\frac{1}{n_{samples}}$ $\\sum_{i=0}^{n_{samples}-1} (y_{i} - \\hat{y}_{i})^2$"
   ]
  },
  {
   "cell_type": "code",
   "execution_count": 377,
   "metadata": {
    "scrolled": true
   },
   "outputs": [
    {
     "data": {
      "text/html": [
       "<div>\n",
       "<style scoped>\n",
       "    .dataframe tbody tr th:only-of-type {\n",
       "        vertical-align: middle;\n",
       "    }\n",
       "\n",
       "    .dataframe tbody tr th {\n",
       "        vertical-align: top;\n",
       "    }\n",
       "\n",
       "    .dataframe thead th {\n",
       "        text-align: right;\n",
       "    }\n",
       "</style>\n",
       "<table border=\"1\" class=\"dataframe\">\n",
       "  <thead>\n",
       "    <tr style=\"text-align: right;\">\n",
       "      <th></th>\n",
       "      <th>R2</th>\n",
       "      <th>MAE</th>\n",
       "      <th>MSE</th>\n",
       "    </tr>\n",
       "  </thead>\n",
       "  <tbody>\n",
       "    <tr>\n",
       "      <th>model10</th>\n",
       "      <td>0.851579</td>\n",
       "      <td>20719.306179</td>\n",
       "      <td>7.667332e+08</td>\n",
       "    </tr>\n",
       "    <tr>\n",
       "      <th>model15</th>\n",
       "      <td>0.882266</td>\n",
       "      <td>18422.756761</td>\n",
       "      <td>6.082075e+08</td>\n",
       "    </tr>\n",
       "    <tr>\n",
       "      <th>model20</th>\n",
       "      <td>0.883760</td>\n",
       "      <td>18356.270799</td>\n",
       "      <td>6.004910e+08</td>\n",
       "    </tr>\n",
       "  </tbody>\n",
       "</table>\n",
       "</div>"
      ],
      "text/plain": [
       "               R2           MAE           MSE\n",
       "model10  0.851579  20719.306179  7.667332e+08\n",
       "model15  0.882266  18422.756761  6.082075e+08\n",
       "model20  0.883760  18356.270799  6.004910e+08"
      ]
     },
     "execution_count": 377,
     "metadata": {},
     "output_type": "execute_result"
    }
   ],
   "source": [
    "# Here we set a dataframe with the metrics of the 3 models\n",
    "index = ['model10', 'model15', 'model20']\n",
    "columns = ['R2', 'MAE', 'MSE']\n",
    "R2 = [metrics10['R2'],metrics15['R2'],metrics20['R2']]\n",
    "MAE = [metrics10['MAE'],metrics15['MAE'],metrics20['MAE']]\n",
    "MSE = [metrics10['MSE'],metrics15['MSE'],metrics20['MSE']]\n",
    "data = {'R2' : R2, 'MAE' : MAE, 'MSE' : MSE}\n",
    "results_df = pd.DataFrame(index = index, columns = columns, data = data)\n",
    "results_df"
   ]
  },
  {
   "cell_type": "code",
   "execution_count": 378,
   "metadata": {
    "scrolled": true
   },
   "outputs": [
    {
     "data": {
      "text/plain": [
       "[<matplotlib.lines.Line2D at 0x2c5d3fd6910>]"
      ]
     },
     "execution_count": 378,
     "metadata": {},
     "output_type": "execute_result"
    },
    {
     "data": {
      "image/png": "[encoded data removed]",
      "text/plain": [
       "<Figure size 432x288 with 1 Axes>"
      ]
     },
     "metadata": {
      "needs_background": "light"
     },
     "output_type": "display_data"
    }
   ],
   "source": [
    "# plot R2\n",
    "plt.plot(index, R2, 'o--', linewidth=2, markersize=12)"
   ]
  },
  {
   "cell_type": "code",
   "execution_count": 379,
   "metadata": {
    "scrolled": true
   },
   "outputs": [
    {
     "data": {
      "text/plain": [
       "[<matplotlib.lines.Line2D at 0x2c5d3ea3790>]"
      ]
     },
     "execution_count": 379,
     "metadata": {},
     "output_type": "execute_result"
    },
    {
     "data": {
      "image/png": "[encoded data removed]",
      "text/plain": [
       "<Figure size 432x288 with 1 Axes>"
      ]
     },
     "metadata": {
      "needs_background": "light"
     },
     "output_type": "display_data"
    }
   ],
   "source": [
    "# plot MAE\n",
    "plt.plot(index, MAE, 'o--', linewidth=2, markersize=12)"
   ]
  },
  {
   "cell_type": "code",
   "execution_count": 380,
   "metadata": {
    "scrolled": false
   },
   "outputs": [
    {
     "data": {
      "text/plain": [
       "[<matplotlib.lines.Line2D at 0x2c5d40837c0>]"
      ]
     },
     "execution_count": 380,
     "metadata": {},
     "output_type": "execute_result"
    },
    {
     "data": {
      "image/png": "[encoded data removed]",
      "text/plain": [
       "<Figure size 432x288 with 1 Axes>"
      ]
     },
     "metadata": {
      "needs_background": "light"
     },
     "output_type": "display_data"
    }
   ],
   "source": [
    "# plot MSE\n",
    "plt.plot(index, MSE, 'o--', linewidth=2, markersize=12)"
   ]
  },
  {
   "cell_type": "markdown",
   "metadata": {},
   "source": [
    "**After analyzing the different metrics, we conclude that model20 built with the 20-most correlated features to the SalePrice is the one that performs better because it has the highest R^2 and the lowest MAE and MSE compared to model10 and model15.**\n",
    "\n",
    "This can be explained by the fact that we included more correlated features in model20 that might explain the SalePrice."
   ]
  },
  {
   "cell_type": "markdown",
   "metadata": {},
   "source": [
    "[Back to top](#Index)\n",
    "\n",
    "### 3.4 Verify Your Model Against Test Data\n",
    "\n",
    "In this section, we test our model against the test data to confirm the accuracy on new data.\n",
    "To do so, we use the model that performs the best, which is the model20.\n",
    "We see that the results are not in accordance with what we found earlier. We can justify this by the fact that the test data is data that our model20 haven't seen."
   ]
  },
  {
   "cell_type": "code",
   "execution_count": 381,
   "metadata": {
    "scrolled": true
   },
   "outputs": [
    {
     "name": "stdout",
     "output_type": "stream",
     "text": [
      "(100, 82)\n"
     ]
    },
    {
     "data": {
      "text/html": [
       "<div>\n",
       "<style scoped>\n",
       "    .dataframe tbody tr th:only-of-type {\n",
       "        vertical-align: middle;\n",
       "    }\n",
       "\n",
       "    .dataframe tbody tr th {\n",
       "        vertical-align: top;\n",
       "    }\n",
       "\n",
       "    .dataframe thead th {\n",
       "        text-align: right;\n",
       "    }\n",
       "</style>\n",
       "<table border=\"1\" class=\"dataframe\">\n",
       "  <thead>\n",
       "    <tr style=\"text-align: right;\">\n",
       "      <th></th>\n",
       "      <th>Unnamed: 0</th>\n",
       "      <th>Id</th>\n",
       "      <th>MSSubClass</th>\n",
       "      <th>MSZoning</th>\n",
       "      <th>LotFrontage</th>\n",
       "      <th>LotArea</th>\n",
       "      <th>Street</th>\n",
       "      <th>Alley</th>\n",
       "      <th>LotShape</th>\n",
       "      <th>LandContour</th>\n",
       "      <th>...</th>\n",
       "      <th>PoolArea</th>\n",
       "      <th>PoolQC</th>\n",
       "      <th>Fence</th>\n",
       "      <th>MiscFeature</th>\n",
       "      <th>MiscVal</th>\n",
       "      <th>MoSold</th>\n",
       "      <th>YrSold</th>\n",
       "      <th>SaleType</th>\n",
       "      <th>SaleCondition</th>\n",
       "      <th>SalePrice</th>\n",
       "    </tr>\n",
       "  </thead>\n",
       "  <tbody>\n",
       "    <tr>\n",
       "      <th>0</th>\n",
       "      <td>100</td>\n",
       "      <td>101</td>\n",
       "      <td>20</td>\n",
       "      <td>RL</td>\n",
       "      <td>NaN</td>\n",
       "      <td>10603</td>\n",
       "      <td>Pave</td>\n",
       "      <td>NaN</td>\n",
       "      <td>IR1</td>\n",
       "      <td>Lvl</td>\n",
       "      <td>...</td>\n",
       "      <td>0</td>\n",
       "      <td>NaN</td>\n",
       "      <td>NaN</td>\n",
       "      <td>NaN</td>\n",
       "      <td>0</td>\n",
       "      <td>2</td>\n",
       "      <td>2010</td>\n",
       "      <td>WD</td>\n",
       "      <td>Normal</td>\n",
       "      <td>205000</td>\n",
       "    </tr>\n",
       "    <tr>\n",
       "      <th>1</th>\n",
       "      <td>101</td>\n",
       "      <td>102</td>\n",
       "      <td>60</td>\n",
       "      <td>RL</td>\n",
       "      <td>77.0</td>\n",
       "      <td>9206</td>\n",
       "      <td>Pave</td>\n",
       "      <td>NaN</td>\n",
       "      <td>Reg</td>\n",
       "      <td>Lvl</td>\n",
       "      <td>...</td>\n",
       "      <td>0</td>\n",
       "      <td>NaN</td>\n",
       "      <td>NaN</td>\n",
       "      <td>NaN</td>\n",
       "      <td>0</td>\n",
       "      <td>6</td>\n",
       "      <td>2010</td>\n",
       "      <td>WD</td>\n",
       "      <td>Normal</td>\n",
       "      <td>178000</td>\n",
       "    </tr>\n",
       "    <tr>\n",
       "      <th>2</th>\n",
       "      <td>102</td>\n",
       "      <td>103</td>\n",
       "      <td>90</td>\n",
       "      <td>RL</td>\n",
       "      <td>64.0</td>\n",
       "      <td>7018</td>\n",
       "      <td>Pave</td>\n",
       "      <td>NaN</td>\n",
       "      <td>Reg</td>\n",
       "      <td>Bnk</td>\n",
       "      <td>...</td>\n",
       "      <td>0</td>\n",
       "      <td>NaN</td>\n",
       "      <td>NaN</td>\n",
       "      <td>NaN</td>\n",
       "      <td>0</td>\n",
       "      <td>6</td>\n",
       "      <td>2009</td>\n",
       "      <td>WD</td>\n",
       "      <td>Alloca</td>\n",
       "      <td>118964</td>\n",
       "    </tr>\n",
       "    <tr>\n",
       "      <th>3</th>\n",
       "      <td>103</td>\n",
       "      <td>104</td>\n",
       "      <td>20</td>\n",
       "      <td>RL</td>\n",
       "      <td>94.0</td>\n",
       "      <td>10402</td>\n",
       "      <td>Pave</td>\n",
       "      <td>NaN</td>\n",
       "      <td>IR1</td>\n",
       "      <td>Lvl</td>\n",
       "      <td>...</td>\n",
       "      <td>0</td>\n",
       "      <td>NaN</td>\n",
       "      <td>NaN</td>\n",
       "      <td>NaN</td>\n",
       "      <td>0</td>\n",
       "      <td>5</td>\n",
       "      <td>2010</td>\n",
       "      <td>WD</td>\n",
       "      <td>Normal</td>\n",
       "      <td>198900</td>\n",
       "    </tr>\n",
       "    <tr>\n",
       "      <th>4</th>\n",
       "      <td>104</td>\n",
       "      <td>105</td>\n",
       "      <td>50</td>\n",
       "      <td>RM</td>\n",
       "      <td>NaN</td>\n",
       "      <td>7758</td>\n",
       "      <td>Pave</td>\n",
       "      <td>NaN</td>\n",
       "      <td>Reg</td>\n",
       "      <td>Lvl</td>\n",
       "      <td>...</td>\n",
       "      <td>0</td>\n",
       "      <td>NaN</td>\n",
       "      <td>NaN</td>\n",
       "      <td>NaN</td>\n",
       "      <td>0</td>\n",
       "      <td>6</td>\n",
       "      <td>2007</td>\n",
       "      <td>WD</td>\n",
       "      <td>Normal</td>\n",
       "      <td>169500</td>\n",
       "    </tr>\n",
       "  </tbody>\n",
       "</table>\n",
       "<p>5 rows × 82 columns</p>\n",
       "</div>"
      ],
      "text/plain": [
       "   Unnamed: 0   Id  MSSubClass MSZoning  LotFrontage  LotArea Street Alley  \\\n",
       "0         100  101          20       RL          NaN    10603   Pave   NaN   \n",
       "1         101  102          60       RL         77.0     9206   Pave   NaN   \n",
       "2         102  103          90       RL         64.0     7018   Pave   NaN   \n",
       "3         103  104          20       RL         94.0    10402   Pave   NaN   \n",
       "4         104  105          50       RM          NaN     7758   Pave   NaN   \n",
       "\n",
       "  LotShape LandContour  ... PoolArea PoolQC Fence MiscFeature MiscVal MoSold  \\\n",
       "0      IR1         Lvl  ...        0    NaN   NaN         NaN       0      2   \n",
       "1      Reg         Lvl  ...        0    NaN   NaN         NaN       0      6   \n",
       "2      Reg         Bnk  ...        0    NaN   NaN         NaN       0      6   \n",
       "3      IR1         Lvl  ...        0    NaN   NaN         NaN       0      5   \n",
       "4      Reg         Lvl  ...        0    NaN   NaN         NaN       0      6   \n",
       "\n",
       "  YrSold SaleType  SaleCondition  SalePrice  \n",
       "0   2010       WD         Normal     205000  \n",
       "1   2010       WD         Normal     178000  \n",
       "2   2009       WD         Alloca     118964  \n",
       "3   2010       WD         Normal     198900  \n",
       "4   2007       WD         Normal     169500  \n",
       "\n",
       "[5 rows x 82 columns]"
      ]
     },
     "execution_count": 381,
     "metadata": {},
     "output_type": "execute_result"
    }
   ],
   "source": [
    "# Read the test file and see how it looks like\n",
    "test = pd.read_csv('jtest.csv')\n",
    "print(test.shape)\n",
    "test.head()"
   ]
  },
  {
   "cell_type": "code",
   "execution_count": 382,
   "metadata": {},
   "outputs": [
    {
     "name": "stdout",
     "output_type": "stream",
     "text": [
      "(100, 39)\n"
     ]
    },
    {
     "name": "stderr",
     "output_type": "stream",
     "text": [
      "C:\\Users\\Mamadou Baïlo CISSE\\AppData\\Local\\Temp\\ipykernel_43708\\3385520139.py:2: FutureWarning: Dropping of nuisance columns in DataFrame reductions (with 'numeric_only=None') is deprecated; in a future version this will raise TypeError.  Select only valid columns before calling the reduction.\n",
      "  test = test.select_dtypes(include = [np.number]).fillna(test.mean())\n"
     ]
    },
    {
     "data": {
      "text/html": [
       "<div>\n",
       "<style scoped>\n",
       "    .dataframe tbody tr th:only-of-type {\n",
       "        vertical-align: middle;\n",
       "    }\n",
       "\n",
       "    .dataframe tbody tr th {\n",
       "        vertical-align: top;\n",
       "    }\n",
       "\n",
       "    .dataframe thead th {\n",
       "        text-align: right;\n",
       "    }\n",
       "</style>\n",
       "<table border=\"1\" class=\"dataframe\">\n",
       "  <thead>\n",
       "    <tr style=\"text-align: right;\">\n",
       "      <th></th>\n",
       "      <th>Unnamed: 0</th>\n",
       "      <th>Id</th>\n",
       "      <th>MSSubClass</th>\n",
       "      <th>LotFrontage</th>\n",
       "      <th>LotArea</th>\n",
       "      <th>OverallQual</th>\n",
       "      <th>OverallCond</th>\n",
       "      <th>YearBuilt</th>\n",
       "      <th>YearRemodAdd</th>\n",
       "      <th>MasVnrArea</th>\n",
       "      <th>...</th>\n",
       "      <th>WoodDeckSF</th>\n",
       "      <th>OpenPorchSF</th>\n",
       "      <th>EnclosedPorch</th>\n",
       "      <th>3SsnPorch</th>\n",
       "      <th>ScreenPorch</th>\n",
       "      <th>PoolArea</th>\n",
       "      <th>MiscVal</th>\n",
       "      <th>MoSold</th>\n",
       "      <th>YrSold</th>\n",
       "      <th>SalePrice</th>\n",
       "    </tr>\n",
       "  </thead>\n",
       "  <tbody>\n",
       "    <tr>\n",
       "      <th>0</th>\n",
       "      <td>100</td>\n",
       "      <td>101</td>\n",
       "      <td>20</td>\n",
       "      <td>72.910256</td>\n",
       "      <td>10603</td>\n",
       "      <td>6</td>\n",
       "      <td>7</td>\n",
       "      <td>1977</td>\n",
       "      <td>2001</td>\n",
       "      <td>28.0</td>\n",
       "      <td>...</td>\n",
       "      <td>168</td>\n",
       "      <td>68</td>\n",
       "      <td>0</td>\n",
       "      <td>0</td>\n",
       "      <td>0</td>\n",
       "      <td>0</td>\n",
       "      <td>0</td>\n",
       "      <td>2</td>\n",
       "      <td>2010</td>\n",
       "      <td>205000</td>\n",
       "    </tr>\n",
       "    <tr>\n",
       "      <th>1</th>\n",
       "      <td>101</td>\n",
       "      <td>102</td>\n",
       "      <td>60</td>\n",
       "      <td>77.000000</td>\n",
       "      <td>9206</td>\n",
       "      <td>6</td>\n",
       "      <td>5</td>\n",
       "      <td>1985</td>\n",
       "      <td>1985</td>\n",
       "      <td>336.0</td>\n",
       "      <td>...</td>\n",
       "      <td>192</td>\n",
       "      <td>46</td>\n",
       "      <td>0</td>\n",
       "      <td>0</td>\n",
       "      <td>0</td>\n",
       "      <td>0</td>\n",
       "      <td>0</td>\n",
       "      <td>6</td>\n",
       "      <td>2010</td>\n",
       "      <td>178000</td>\n",
       "    </tr>\n",
       "    <tr>\n",
       "      <th>2</th>\n",
       "      <td>102</td>\n",
       "      <td>103</td>\n",
       "      <td>90</td>\n",
       "      <td>64.000000</td>\n",
       "      <td>7018</td>\n",
       "      <td>5</td>\n",
       "      <td>5</td>\n",
       "      <td>1979</td>\n",
       "      <td>1979</td>\n",
       "      <td>0.0</td>\n",
       "      <td>...</td>\n",
       "      <td>0</td>\n",
       "      <td>0</td>\n",
       "      <td>0</td>\n",
       "      <td>0</td>\n",
       "      <td>0</td>\n",
       "      <td>0</td>\n",
       "      <td>0</td>\n",
       "      <td>6</td>\n",
       "      <td>2009</td>\n",
       "      <td>118964</td>\n",
       "    </tr>\n",
       "    <tr>\n",
       "      <th>3</th>\n",
       "      <td>103</td>\n",
       "      <td>104</td>\n",
       "      <td>20</td>\n",
       "      <td>94.000000</td>\n",
       "      <td>10402</td>\n",
       "      <td>7</td>\n",
       "      <td>5</td>\n",
       "      <td>2009</td>\n",
       "      <td>2009</td>\n",
       "      <td>0.0</td>\n",
       "      <td>...</td>\n",
       "      <td>0</td>\n",
       "      <td>36</td>\n",
       "      <td>0</td>\n",
       "      <td>0</td>\n",
       "      <td>0</td>\n",
       "      <td>0</td>\n",
       "      <td>0</td>\n",
       "      <td>5</td>\n",
       "      <td>2010</td>\n",
       "      <td>198900</td>\n",
       "    </tr>\n",
       "    <tr>\n",
       "      <th>4</th>\n",
       "      <td>104</td>\n",
       "      <td>105</td>\n",
       "      <td>50</td>\n",
       "      <td>72.910256</td>\n",
       "      <td>7758</td>\n",
       "      <td>7</td>\n",
       "      <td>4</td>\n",
       "      <td>1931</td>\n",
       "      <td>1950</td>\n",
       "      <td>600.0</td>\n",
       "      <td>...</td>\n",
       "      <td>0</td>\n",
       "      <td>0</td>\n",
       "      <td>0</td>\n",
       "      <td>0</td>\n",
       "      <td>184</td>\n",
       "      <td>0</td>\n",
       "      <td>0</td>\n",
       "      <td>6</td>\n",
       "      <td>2007</td>\n",
       "      <td>169500</td>\n",
       "    </tr>\n",
       "  </tbody>\n",
       "</table>\n",
       "<p>5 rows × 39 columns</p>\n",
       "</div>"
      ],
      "text/plain": [
       "   Unnamed: 0   Id  MSSubClass  LotFrontage  LotArea  OverallQual  \\\n",
       "0         100  101          20    72.910256    10603            6   \n",
       "1         101  102          60    77.000000     9206            6   \n",
       "2         102  103          90    64.000000     7018            5   \n",
       "3         103  104          20    94.000000    10402            7   \n",
       "4         104  105          50    72.910256     7758            7   \n",
       "\n",
       "   OverallCond  YearBuilt  YearRemodAdd  MasVnrArea  ...  WoodDeckSF  \\\n",
       "0            7       1977          2001        28.0  ...         168   \n",
       "1            5       1985          1985       336.0  ...         192   \n",
       "2            5       1979          1979         0.0  ...           0   \n",
       "3            5       2009          2009         0.0  ...           0   \n",
       "4            4       1931          1950       600.0  ...           0   \n",
       "\n",
       "   OpenPorchSF  EnclosedPorch  3SsnPorch  ScreenPorch  PoolArea  MiscVal  \\\n",
       "0           68              0          0            0         0        0   \n",
       "1           46              0          0            0         0        0   \n",
       "2            0              0          0            0         0        0   \n",
       "3           36              0          0            0         0        0   \n",
       "4            0              0          0          184         0        0   \n",
       "\n",
       "   MoSold  YrSold  SalePrice  \n",
       "0       2    2010     205000  \n",
       "1       6    2010     178000  \n",
       "2       6    2009     118964  \n",
       "3       5    2010     198900  \n",
       "4       6    2007     169500  \n",
       "\n",
       "[5 rows x 39 columns]"
      ]
     },
     "execution_count": 382,
     "metadata": {},
     "output_type": "execute_result"
    }
   ],
   "source": [
    "# Here we fill the NaN values with the mean as we did for the train dataset\n",
    "test = test.select_dtypes(include = [np.number]).fillna(test.mean())\n",
    "print(test.shape)\n",
    "test.head()"
   ]
  },
  {
   "cell_type": "code",
   "execution_count": 383,
   "metadata": {
    "scrolled": false
   },
   "outputs": [
    {
     "data": {
      "text/html": [
       "<div>\n",
       "<style scoped>\n",
       "    .dataframe tbody tr th:only-of-type {\n",
       "        vertical-align: middle;\n",
       "    }\n",
       "\n",
       "    .dataframe tbody tr th {\n",
       "        vertical-align: top;\n",
       "    }\n",
       "\n",
       "    .dataframe thead th {\n",
       "        text-align: right;\n",
       "    }\n",
       "</style>\n",
       "<table border=\"1\" class=\"dataframe\">\n",
       "  <thead>\n",
       "    <tr style=\"text-align: right;\">\n",
       "      <th></th>\n",
       "      <th>OverallQual</th>\n",
       "      <th>GrLivArea</th>\n",
       "      <th>GarageArea</th>\n",
       "      <th>GarageCars</th>\n",
       "      <th>YearBuilt</th>\n",
       "      <th>TotalBsmtSF</th>\n",
       "      <th>GarageYrBlt</th>\n",
       "      <th>FullBath</th>\n",
       "      <th>MasVnrArea</th>\n",
       "      <th>TotRmsAbvGrd</th>\n",
       "      <th>1stFlrSF</th>\n",
       "      <th>YearRemodAdd</th>\n",
       "      <th>LotArea</th>\n",
       "      <th>Fireplaces</th>\n",
       "      <th>WoodDeckSF</th>\n",
       "      <th>2ndFlrSF</th>\n",
       "      <th>BsmtUnfSF</th>\n",
       "      <th>HalfBath</th>\n",
       "      <th>OpenPorchSF</th>\n",
       "      <th>LotFrontage</th>\n",
       "    </tr>\n",
       "  </thead>\n",
       "  <tbody>\n",
       "    <tr>\n",
       "      <th>0</th>\n",
       "      <td>6</td>\n",
       "      <td>1610</td>\n",
       "      <td>480</td>\n",
       "      <td>2</td>\n",
       "      <td>1977</td>\n",
       "      <td>1610</td>\n",
       "      <td>1977.0</td>\n",
       "      <td>2</td>\n",
       "      <td>28.0</td>\n",
       "      <td>6</td>\n",
       "      <td>1610</td>\n",
       "      <td>2001</td>\n",
       "      <td>10603</td>\n",
       "      <td>2</td>\n",
       "      <td>168</td>\n",
       "      <td>0</td>\n",
       "      <td>410</td>\n",
       "      <td>0</td>\n",
       "      <td>68</td>\n",
       "      <td>72.910256</td>\n",
       "    </tr>\n",
       "    <tr>\n",
       "      <th>1</th>\n",
       "      <td>6</td>\n",
       "      <td>1732</td>\n",
       "      <td>476</td>\n",
       "      <td>2</td>\n",
       "      <td>1985</td>\n",
       "      <td>741</td>\n",
       "      <td>1985.0</td>\n",
       "      <td>2</td>\n",
       "      <td>336.0</td>\n",
       "      <td>7</td>\n",
       "      <td>977</td>\n",
       "      <td>1985</td>\n",
       "      <td>9206</td>\n",
       "      <td>1</td>\n",
       "      <td>192</td>\n",
       "      <td>755</td>\n",
       "      <td>741</td>\n",
       "      <td>1</td>\n",
       "      <td>46</td>\n",
       "      <td>77.000000</td>\n",
       "    </tr>\n",
       "    <tr>\n",
       "      <th>2</th>\n",
       "      <td>5</td>\n",
       "      <td>1535</td>\n",
       "      <td>410</td>\n",
       "      <td>2</td>\n",
       "      <td>1979</td>\n",
       "      <td>0</td>\n",
       "      <td>1979.0</td>\n",
       "      <td>2</td>\n",
       "      <td>0.0</td>\n",
       "      <td>8</td>\n",
       "      <td>1535</td>\n",
       "      <td>1979</td>\n",
       "      <td>7018</td>\n",
       "      <td>0</td>\n",
       "      <td>0</td>\n",
       "      <td>0</td>\n",
       "      <td>0</td>\n",
       "      <td>0</td>\n",
       "      <td>0</td>\n",
       "      <td>64.000000</td>\n",
       "    </tr>\n",
       "    <tr>\n",
       "      <th>3</th>\n",
       "      <td>7</td>\n",
       "      <td>1226</td>\n",
       "      <td>740</td>\n",
       "      <td>3</td>\n",
       "      <td>2009</td>\n",
       "      <td>1226</td>\n",
       "      <td>2009.0</td>\n",
       "      <td>2</td>\n",
       "      <td>0.0</td>\n",
       "      <td>6</td>\n",
       "      <td>1226</td>\n",
       "      <td>2009</td>\n",
       "      <td>10402</td>\n",
       "      <td>0</td>\n",
       "      <td>0</td>\n",
       "      <td>0</td>\n",
       "      <td>1226</td>\n",
       "      <td>0</td>\n",
       "      <td>36</td>\n",
       "      <td>94.000000</td>\n",
       "    </tr>\n",
       "    <tr>\n",
       "      <th>4</th>\n",
       "      <td>7</td>\n",
       "      <td>1818</td>\n",
       "      <td>240</td>\n",
       "      <td>1</td>\n",
       "      <td>1931</td>\n",
       "      <td>1040</td>\n",
       "      <td>1951.0</td>\n",
       "      <td>1</td>\n",
       "      <td>600.0</td>\n",
       "      <td>7</td>\n",
       "      <td>1226</td>\n",
       "      <td>1950</td>\n",
       "      <td>7758</td>\n",
       "      <td>2</td>\n",
       "      <td>0</td>\n",
       "      <td>592</td>\n",
       "      <td>816</td>\n",
       "      <td>1</td>\n",
       "      <td>0</td>\n",
       "      <td>72.910256</td>\n",
       "    </tr>\n",
       "  </tbody>\n",
       "</table>\n",
       "</div>"
      ],
      "text/plain": [
       "   OverallQual  GrLivArea  GarageArea  GarageCars  YearBuilt  TotalBsmtSF  \\\n",
       "0            6       1610         480           2       1977         1610   \n",
       "1            6       1732         476           2       1985          741   \n",
       "2            5       1535         410           2       1979            0   \n",
       "3            7       1226         740           3       2009         1226   \n",
       "4            7       1818         240           1       1931         1040   \n",
       "\n",
       "   GarageYrBlt  FullBath  MasVnrArea  TotRmsAbvGrd  1stFlrSF  YearRemodAdd  \\\n",
       "0       1977.0         2        28.0             6      1610          2001   \n",
       "1       1985.0         2       336.0             7       977          1985   \n",
       "2       1979.0         2         0.0             8      1535          1979   \n",
       "3       2009.0         2         0.0             6      1226          2009   \n",
       "4       1951.0         1       600.0             7      1226          1950   \n",
       "\n",
       "   LotArea  Fireplaces  WoodDeckSF  2ndFlrSF  BsmtUnfSF  HalfBath  \\\n",
       "0    10603           2         168         0        410         0   \n",
       "1     9206           1         192       755        741         1   \n",
       "2     7018           0           0         0          0         0   \n",
       "3    10402           0           0         0       1226         0   \n",
       "4     7758           2           0       592        816         1   \n",
       "\n",
       "   OpenPorchSF  LotFrontage  \n",
       "0           68    72.910256  \n",
       "1           46    77.000000  \n",
       "2            0    64.000000  \n",
       "3           36    94.000000  \n",
       "4            0    72.910256  "
      ]
     },
     "execution_count": 383,
     "metadata": {},
     "output_type": "execute_result"
    }
   ],
   "source": [
    "# Set the independent variables\n",
    "X = test[cols[21]]\n",
    "# Set the dependent variable\n",
    "Y = X['SalePrice']\n",
    "# Drop the SalePrice from the independent variables\n",
    "X = X.drop(['SalePrice'], axis = 1)\n",
    "X.head()"
   ]
  },
  {
   "cell_type": "code",
   "execution_count": 384,
   "metadata": {},
   "outputs": [
    {
     "name": "stdout",
     "output_type": "stream",
     "text": [
      "R^2 is : 0.7450940100573108\n"
     ]
    }
   ],
   "source": [
    "#Make the predictions\n",
    "predictions = model20.predict(X)\n",
    "print(f\"R^2 is : {model20.score(X,Y)}\")"
   ]
  },
  {
   "cell_type": "markdown",
   "metadata": {},
   "source": [
    "**On the data we haven't seen (0.74), we're not as good as the train data.\n",
    "We were 0.88 on the training data set with model20.**\n",
    "\n",
    "Now when we compare how our model20 performs on the test data set (0.74) against Dr. Williams model (0.74), we see that we perform the same."
   ]
  },
  {
   "cell_type": "markdown",
   "metadata": {},
   "source": [
    "By adding further transformation steps on the training data, we might perform better on test data.\n",
    "The transformations we're going to apply are the following :\n",
    "\n",
    "1. We first merge the train and test set so that both can undergo the same preparation steps\n",
    "2. We apply the data preparation performed in section **2.4 Data preparation** \n",
    "3. We impute categorical (ordinal and nominal) features by using **'most_frequent' imputation strategy**\n",
    "4. We **identify the ordinal categorical features** (based on the data description file),and **convert their values into numeric values**. As a result, we have more numeric columns in the dataset that we can use to compute the correlations with the SalePrice and get a new set of correlated features. As previously, we're going to select the most 20-correlated features with the SalePrice\n",
    "5. To leverage the nominal categorical features, we use **ANOVA** (ANalysis Of VAriance) technique to get the best correlated nominal features with the SalePrice. We're going to choose the ones with a p-value less than 0.05. Then we apply **One Hot Encoding** to the selected nominal features.\n",
    "6. Finally we combine the data in steps 4 and 5 and build a new model **NewModel**."
   ]
  },
  {
   "cell_type": "code",
   "execution_count": 385,
   "metadata": {
    "scrolled": false
   },
   "outputs": [
    {
     "name": "stdout",
     "output_type": "stream",
     "text": [
      "After transformation steps, this is the shape of the dataset (train and test) : (200, 75)\n",
      "R^2 is : 0.9558183056541933\n",
      "Mean absolute error is : 11062.081585206815\n",
      "Mean squared error is : 228239910.3873829\n",
      "Weights of the model are : [ 1.16025604e+04  4.94915092e+01  8.40908442e+01  1.48821852e+03\n",
      "  1.48821852e+03  1.48821852e+03  1.48821852e+03  1.48821852e+03\n",
      "  1.48821852e+03  1.48821852e+03  1.48821852e+03  1.48821852e+03\n",
      "  1.48821852e+03  1.48821852e+03  1.48821852e+03 -6.96996683e+03\n",
      " -4.38256758e+03  3.41880533e+01 -1.18368152e+01 -2.55646205e+01\n",
      " -9.87032721e+03 -5.26810512e+04 -3.11549998e+02  3.35771497e+03\n",
      " -3.98065607e+04 -4.41844370e+03 -2.94819085e+03 -2.00038771e+04\n",
      "  5.76447406e+03 -8.23190585e+03  6.54836185e-11 -1.85256786e+04\n",
      " -3.10573006e+03  2.66191188e+04 -1.63187598e+04 -1.46606169e+04\n",
      " -9.16497423e+03  4.05668148e+04  8.31405013e+04  9.52319539e+02\n",
      "  3.96467227e+04  1.92391310e+03 -4.86502539e+03  2.94111229e+03\n",
      " -2.25170773e+04  3.40495763e+03  1.17834967e+04  7.32862297e+03\n",
      "  2.18241238e+03  9.23377312e+03  1.14352125e+03  1.34889891e+04\n",
      " -2.60486958e+04 -9.44762387e+03  4.03478538e+04  0.00000000e+00\n",
      " -3.63229298e+03 -2.72679370e+04  0.00000000e+00  2.34424966e+03\n",
      "  8.03668216e+03  9.78844882e+03 -1.10065951e+04 -9.16278549e+03\n",
      " -3.05505099e+04  3.74098890e+04  0.00000000e+00  0.00000000e+00\n",
      " -3.22708612e+03 -3.63229298e+03 -3.24393512e+04 -2.29388167e+04\n",
      "  3.55137044e+04  1.98644635e+04]\n"
     ]
    },
    {
     "name": "stderr",
     "output_type": "stream",
     "text": [
      "C:\\Users\\Mamadou Baïlo CISSE\\AppData\\Local\\Temp\\ipykernel_43708\\4109320530.py:12: FutureWarning: Dropping of nuisance columns in DataFrame reductions (with 'numeric_only=None') is deprecated; in a future version this will raise TypeError.  Select only valid columns before calling the reduction.\n",
      "  numerical_features = dataset.select_dtypes(include = [np.number]).fillna(dataset.mean()).dropna(axis=1)\n",
      "C:\\ProgramData\\Anaconda3\\lib\\site-packages\\scipy\\stats\\stats.py:3650: F_onewayConstantInputWarning: Each of the input arrays is constant;the F statistic is not defined or infinite\n",
      "  warnings.warn(F_onewayConstantInputWarning())\n"
     ]
    }
   ],
   "source": [
    "# 1. We first merge the train and test set so that both can undergo the same preparation steps\n",
    "\n",
    "train = pd.read_csv('houseSmallData.csv')\n",
    "test = pd.read_csv('jtest.csv')\n",
    "dataset = pd.concat([train, test])\n",
    "\n",
    "# We apply the data preparation performed in section **2.4 Data preparation** \n",
    "\n",
    "dataset = dataset.drop(columns = 'Unnamed: 0')\n",
    "dataset = dataset.set_index('Id')\n",
    "\n",
    "numerical_features = dataset.select_dtypes(include = [np.number]).fillna(dataset.mean()).dropna(axis=1)\n",
    "\n",
    "# 3. Impute categorical (ordinal and nominal) features by using **'most_frequent' imputation strategy**\n",
    "\n",
    "categorical_features = dataset.select_dtypes(exclude = [np.number])\n",
    "imputer = SimpleImputer(strategy = 'most_frequent')\n",
    "categorical_features = pd.DataFrame(imputer.fit_transform(categorical_features), columns = categorical_features.columns)\n",
    "\n",
    "\n",
    "# 4. **Identify the ordinal categorical features** (based on the data description file),and **convert their values into \n",
    "# numeric values**. As a result, we have more numeric values in the dataseting dataset that we can use to compute the \n",
    "# correlations with the SalePrice and get a new set of correlated features. As previously, we're going to select the most 20-\n",
    "# correlated features with the SalePrice\n",
    "\n",
    "categorical_features['ExterQual'] = categorical_features['ExterQual'].replace(['Po','Fa','TA','Gd', 'Ex'],[1, 2, 3, 4, 5])\n",
    "categorical_features['ExterCond'] = categorical_features['ExterQual'].replace(['Po','Fa','TA','Gd', 'Ex'],[1, 2, 3, 4, 5])\n",
    "categorical_features['BsmtQual'] = categorical_features['ExterQual'].replace(['Po','Fa','TA','Gd', 'Ex'],[1, 2, 3, 4, 5])\n",
    "categorical_features['BsmtCond'] = categorical_features['ExterQual'].replace(['Po','Fa','TA','Gd', 'Ex'],[1, 2, 3, 4, 5])\n",
    "categorical_features['HeatingQC'] = categorical_features['ExterQual'].replace(['Po','Fa','TA','Gd', 'Ex'],[1, 2, 3, 4, 5])\n",
    "categorical_features['KitchenQual'] = categorical_features['ExterQual'].replace(['Po','Fa','TA','Gd', 'Ex'],[1, 2, 3, 4, 5])\n",
    "categorical_features['FireplaceQu'] = categorical_features['ExterQual'].replace(['Po','Fa','TA','Gd', 'Ex'],[1, 2, 3, 4, 5])\n",
    "categorical_features['GarageQual'] = categorical_features['ExterQual'].replace(['Po','Fa','TA','Gd', 'Ex'],[1, 2, 3, 4, 5])\n",
    "categorical_features['GarageCond'] = categorical_features['ExterQual'].replace(['Po','Fa','TA','Gd', 'Ex'],[1, 2, 3, 4, 5])\n",
    "categorical_features['BsmtExposure'] = categorical_features['ExterQual'].replace(['Gd','Av','Mn','No'],[1, 2, 3, 4])\n",
    "categorical_features['BsmtFinType1'] = categorical_features['ExterQual'].replace(['Unf','LwQ','Rec','BLQ', 'ALQ', 'GLQ'],[1, 2, 3, 4, 5, 6])\n",
    "categorical_features['BsmtFinType2'] = categorical_features['ExterQual'].replace(['Unf','LwQ','Rec','BLQ', 'ALQ', 'GLQ'],[1, 2, 3, 4, 5, 6])\n",
    "\n",
    "categorical_features.index = dataset.index\n",
    "dataset = pd.concat([numerical_features,categorical_features], axis = 1)\n",
    "\n",
    "\n",
    "numerical_features = dataset.select_dtypes(include = [np.number])\n",
    "\n",
    "corr = numerical_features.corr()\n",
    "numericCols = corr['SalePrice'].sort_values(ascending = False)[0:21].index\n",
    "numerical_features = numerical_features[numericCols]\n",
    "\n",
    "\n",
    "# 5. To leverage the nominal categorical features, we use **ANOVA** technique to get the best correlated nominal features \n",
    "# with the SalePrice. We're going to choose the ones with a p-value less than 0.05. Then we apply **One Hot Encoding** \n",
    "# to the selected nominal features.\n",
    "\n",
    "\n",
    "categorical_features = dataset.select_dtypes(exclude = [np.number]) # Now we only have nominal categorical features in categorical features\n",
    "\n",
    "\n",
    "# We add the SalePrice column to categorical_features to perform the ANOVA\n",
    "\n",
    "categorical_features = pd.concat([categorical_features,numerical_features[['SalePrice']]], axis = 1)\n",
    "\n",
    "\n",
    "# Using ANOVA with the SalePrice, we select nominal categorical columns with a p-value less than 0.05\n",
    "\n",
    "anovaCols = []\n",
    "p_values = []\n",
    "for categorical_column in categorical_features.columns :\n",
    "    CategoryGroupLists=categorical_features.groupby(categorical_column)['SalePrice'].apply(list)\n",
    "    if len(CategoryGroupLists) > 2 :\n",
    "        AnovaResults = f_oneway(*CategoryGroupLists)\n",
    "        if AnovaResults[1] < 0.05 :\n",
    "            anovaCols.append(categorical_column)\n",
    "            p_values.append(AnovaResults[1])\n",
    "\n",
    "p_values_df = pd.DataFrame(index = anovaCols, data=p_values)\n",
    "\n",
    "categorical_cols = p_values_df[0].sort_values(ascending = True)[:9].index\n",
    "categorical_cols = categorical_cols.delete(0)\n",
    "\n",
    "            \n",
    "categorical_features = categorical_features.drop('SalePrice', axis = 1) \n",
    "\n",
    "dummies = pd.get_dummies(categorical_features[categorical_cols], columns = categorical_cols)\n",
    "\n",
    "\n",
    "# 6. Finally we combine the data in steps 4 and 5 and build a **new model**.\n",
    "\n",
    "dataset = pd.concat([numerical_features, dummies], axis = 1)\n",
    "# After the transformation steps, let's look at the shape of the dataset \n",
    "print(f\"After transformation steps, this is the shape of the dataset (train and test) : {dataset.shape}\")\n",
    "\n",
    "# Select the train dataset which is the top 100\n",
    "X = dataset.iloc[:100]\n",
    "Y = X['SalePrice']\n",
    "X = X.drop(['SalePrice'], axis = 1)\n",
    "\n",
    "lr = linear_model.LinearRegression()\n",
    "NewModel = lr.fit(X,Y)\n",
    "predictions = NewModel.predict(X)\n",
    "print(f\"R^2 is : {r2_score(Y, predictions)}\")\n",
    "print(f\"Mean absolute error is : {mean_absolute_error(Y, predictions)}\")\n",
    "print(f\"Mean squared error is : {mean_squared_error(Y, predictions)}\")\n",
    "print(f\"Weights of the model are : {lr.coef_}\")\n",
    "\n",
    "# Store the metrics in metricsNewModel for comparison purpose\n",
    "metricsNewModel = {'R2' : r2_score(Y, predictions), \n",
    "           'MAE' : mean_absolute_error(Y, predictions), \n",
    "           'MSE' : mean_squared_error(Y, predictions)}\n",
    "\n"
   ]
  },
  {
   "cell_type": "code",
   "execution_count": 386,
   "metadata": {
    "scrolled": false
   },
   "outputs": [
    {
     "data": {
      "text/html": [
       "<div>\n",
       "<style scoped>\n",
       "    .dataframe tbody tr th:only-of-type {\n",
       "        vertical-align: middle;\n",
       "    }\n",
       "\n",
       "    .dataframe tbody tr th {\n",
       "        vertical-align: top;\n",
       "    }\n",
       "\n",
       "    .dataframe thead th {\n",
       "        text-align: right;\n",
       "    }\n",
       "</style>\n",
       "<table border=\"1\" class=\"dataframe\">\n",
       "  <thead>\n",
       "    <tr style=\"text-align: right;\">\n",
       "      <th></th>\n",
       "      <th>R2</th>\n",
       "      <th>MAE</th>\n",
       "      <th>MSE</th>\n",
       "    </tr>\n",
       "  </thead>\n",
       "  <tbody>\n",
       "    <tr>\n",
       "      <th>model10</th>\n",
       "      <td>0.851579</td>\n",
       "      <td>20719.306179</td>\n",
       "      <td>7.667332e+08</td>\n",
       "    </tr>\n",
       "    <tr>\n",
       "      <th>model15</th>\n",
       "      <td>0.882266</td>\n",
       "      <td>18422.756761</td>\n",
       "      <td>6.082075e+08</td>\n",
       "    </tr>\n",
       "    <tr>\n",
       "      <th>model20</th>\n",
       "      <td>0.883760</td>\n",
       "      <td>18356.270799</td>\n",
       "      <td>6.004910e+08</td>\n",
       "    </tr>\n",
       "    <tr>\n",
       "      <th>NewModel</th>\n",
       "      <td>0.955818</td>\n",
       "      <td>11062.081585</td>\n",
       "      <td>2.282399e+08</td>\n",
       "    </tr>\n",
       "  </tbody>\n",
       "</table>\n",
       "</div>"
      ],
      "text/plain": [
       "                R2           MAE           MSE\n",
       "model10   0.851579  20719.306179  7.667332e+08\n",
       "model15   0.882266  18422.756761  6.082075e+08\n",
       "model20   0.883760  18356.270799  6.004910e+08\n",
       "NewModel  0.955818  11062.081585  2.282399e+08"
      ]
     },
     "execution_count": 386,
     "metadata": {},
     "output_type": "execute_result"
    }
   ],
   "source": [
    "# Here we set a dataframe with the metrics of the 3 models built in the first part of the notebook\n",
    "# and we add the metrics of the new model \"NewModel\"\n",
    "index = ['model10', 'model15', 'model20', 'NewModel']\n",
    "columns = ['R2', 'MAE', 'MSE']\n",
    "R2 = [metrics10['R2'],metrics15['R2'],metrics20['R2'], metricsNewModel['R2']]\n",
    "MAE = [metrics10['MAE'],metrics15['MAE'],metrics20['MAE'], metricsNewModel['MAE']]\n",
    "MSE = [metrics10['MSE'],metrics15['MSE'],metrics20['MSE'], metricsNewModel['MSE']]\n",
    "data = {'R2' : R2, 'MAE' : MAE, 'MSE' : MSE}\n",
    "results_df = pd.DataFrame(index = index, columns = columns, data = data)\n",
    "results_df"
   ]
  },
  {
   "cell_type": "code",
   "execution_count": 387,
   "metadata": {
    "scrolled": true
   },
   "outputs": [
    {
     "data": {
      "text/plain": [
       "[<matplotlib.lines.Line2D at 0x2c5d40c9cd0>]"
      ]
     },
     "execution_count": 387,
     "metadata": {},
     "output_type": "execute_result"
    },
    {
     "data": {
      "image/png": "[encoded data removed]",
      "text/plain": [
       "<Figure size 432x288 with 1 Axes>"
      ]
     },
     "metadata": {
      "needs_background": "light"
     },
     "output_type": "display_data"
    }
   ],
   "source": [
    "# plot R2\n",
    "plt.plot(index, R2, 'o--', linewidth=2, markersize=12)"
   ]
  },
  {
   "cell_type": "code",
   "execution_count": 388,
   "metadata": {
    "scrolled": true
   },
   "outputs": [
    {
     "data": {
      "text/plain": [
       "[<matplotlib.lines.Line2D at 0x2c5d415b490>]"
      ]
     },
     "execution_count": 388,
     "metadata": {},
     "output_type": "execute_result"
    },
    {
     "data": {
      "image/png": "[encoded data removed]",
      "text/plain": [
       "<Figure size 432x288 with 1 Axes>"
      ]
     },
     "metadata": {
      "needs_background": "light"
     },
     "output_type": "display_data"
    }
   ],
   "source": [
    "# plot MAE\n",
    "plt.plot(index, MAE, 'o--', linewidth=2, markersize=12)"
   ]
  },
  {
   "cell_type": "code",
   "execution_count": 389,
   "metadata": {
    "scrolled": true
   },
   "outputs": [
    {
     "data": {
      "text/plain": [
       "[<matplotlib.lines.Line2D at 0x2c5d41a7850>]"
      ]
     },
     "execution_count": 389,
     "metadata": {},
     "output_type": "execute_result"
    },
    {
     "data": {
      "image/png": "[encoded data removed]",
      "text/plain": [
       "<Figure size 432x288 with 1 Axes>"
      ]
     },
     "metadata": {
      "needs_background": "light"
     },
     "output_type": "display_data"
    }
   ],
   "source": [
    "# plot MSE\n",
    "plt.plot(index, MSE, 'o--', linewidth=2, markersize=12)"
   ]
  },
  {
   "cell_type": "markdown",
   "metadata": {},
   "source": [
    "**After analyzing the different metrics, we conclude that the model NewModel built using further transformations performs better because it has the highest R^2 and the lowest MAE and MSE compared to model10, model15 ,and model20.**\n",
    "\n",
    "This can be explained by the fact that we included more correlated features (including categorical ones) that might explain the SalePrice."
   ]
  },
  {
   "cell_type": "markdown",
   "metadata": {},
   "source": [
    "We apply the new model NewModel to predict the house prices in the test dataset"
   ]
  },
  {
   "cell_type": "code",
   "execution_count": 390,
   "metadata": {},
   "outputs": [
    {
     "name": "stdout",
     "output_type": "stream",
     "text": [
      "R^2 is : 0.7843087776199421\n",
      "Mean absolute error is : 26991.08248353684\n",
      "Mean squared error is : 1374554445.415751\n"
     ]
    }
   ],
   "source": [
    "# Select the test data\n",
    "X = dataset.iloc[100:]\n",
    "Y = X['SalePrice']\n",
    "X = X.drop(['SalePrice'], axis = 1)\n",
    "\n",
    "predictions = NewModel.predict(X)\n",
    "print(f\"R^2 is : {r2_score(Y, predictions)}\")\n",
    "print(f\"Mean absolute error is : {mean_absolute_error(Y, predictions)}\")\n",
    "print(f\"Mean squared error is : {mean_squared_error(Y, predictions)}\")"
   ]
  },
  {
   "cell_type": "markdown",
   "metadata": {},
   "source": [
    "We can see that the model **NewModel** also performs better on test data (0.78) compared to the model20 (0.74) and Dr. Williams model on test data(0.74)."
   ]
  },
  {
   "cell_type": "markdown",
   "metadata": {},
   "source": [
    "[Back to top](#Index)\n",
    "\n",
    "## Conclusion\n",
    "\n",
    "To sum up, in the first part of the notebook, we demonstrated that we performed better with model20 that is built with the most 20-correlated features with the SalePrice. \n",
    "\n",
    "In the second part of the notebook, by applying further transformations and including the categorical features in the analysis, we built a new model \"NewModel\" that performed better than model20.\n",
    "This demonstrates the importance of data cleaning and analysis techniques when creating a prediction model. We need to know well our data and transform them the way we can get the features that explain the best the dependent variables.\n",
    "\n",
    "In this project, we learned techniques such as imputation strategies for categorical variables ,and ANOVA to analyze the correlation between a categorical and a numerical variable ,and we also learned the metrics MAE (Mean Absolute Error) ,and MSE (Mean Squared Error) for model evaluation. However, we faced some difficulties when dealing with dummy variables.\n",
    "\n",
    "Linear regression is just one algorithm in the machine learning world. We could have used other algorithms such as Lasso or XGBoost."
   ]
  },
  {
   "cell_type": "markdown",
   "metadata": {},
   "source": [
    "\n",
    "[Back to top](#Index\n",
    ")\n",
    "## References\n",
    "\n",
    "\n",
    "- MIT XPRO, 2022. https://student.emeritus.org/courses/4750/pages/making-predictions-with-linear-regression?module_item_id=1302803\n",
    "\n",
    "- Hashmi, Farukh. \"Thinking neuron\" Thinking neuron. Thinking Neuron, 2022. https://thinkingneuron.com/how-to-measure-the-correlation-between-a-numeric-and-a-categorical-variable-in-python/\n",
    "\n",
    "- Scikit learn, 2022. https://scikit-learn.org/stable/modules/model_evaluation.html#regression-metrics"
   ]
  }
 ],
 "metadata": {
  "kernelspec": {
   "display_name": "Python 3 (ipykernel)",
   "language": "python",
   "name": "python3"
  },
  "language_info": {
   "codemirror_mode": {
    "name": "ipython",
    "version": 3
   },
   "file_extension": ".py",
   "mimetype": "text/x-python",
   "name": "python",
   "nbconvert_exporter": "python",
   "pygments_lexer": "ipython3",
   "version": "3.9.12"
  }
 },
 "nbformat": 4,
 "nbformat_minor": 4
}
